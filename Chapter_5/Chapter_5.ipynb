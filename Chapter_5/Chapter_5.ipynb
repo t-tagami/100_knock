{
 "cells": [
  {
   "cell_type": "markdown",
   "metadata": {
    "toc": "true"
   },
   "source": [
    " # Table of Contents\n",
    "<div class=\"toc\" style=\"margin-top: 1em;\"><ul class=\"toc-item\" id=\"toc-level0\"><li><span><a href=\"http://localhost:8890/notebooks/t-tagami/Chapter_5/Chapter_5.ipynb#第5章:-係り受け解析\" data-toc-modified-id=\"第5章:-係り受け解析-1\"><span class=\"toc-item-num\">1&nbsp;&nbsp;</span>第5章: 係り受け解析</a></span><ul class=\"toc-item\"><ul class=\"toc-item\"><li><span><a href=\"http://localhost:8890/notebooks/t-tagami/Chapter_5/Chapter_5.ipynb#40.-係り受け解析結果の読み込み（形態素）\" data-toc-modified-id=\"40.-係り受け解析結果の読み込み（形態素）-1.0.1\"><span class=\"toc-item-num\">1.0.1&nbsp;&nbsp;</span>40. 係り受け解析結果の読み込み（形態素）</a></span></li><li><span><a href=\"http://localhost:8890/notebooks/t-tagami/Chapter_5/Chapter_5.ipynb#41.-係り受け解析結果の読み込み（文節・係り受け）\" data-toc-modified-id=\"41.-係り受け解析結果の読み込み（文節・係り受け）-1.0.2\"><span class=\"toc-item-num\">1.0.2&nbsp;&nbsp;</span>41. 係り受け解析結果の読み込み（文節・係り受け）</a></span></li><li><span><a href=\"http://localhost:8890/notebooks/t-tagami/Chapter_5/Chapter_5.ipynb#42.-係り元と係り先の文節の表示\" data-toc-modified-id=\"42.-係り元と係り先の文節の表示-1.0.3\"><span class=\"toc-item-num\">1.0.3&nbsp;&nbsp;</span>42. 係り元と係り先の文節の表示</a></span></li><li><span><a href=\"http://localhost:8890/notebooks/t-tagami/Chapter_5/Chapter_5.ipynb#43.-名詞を含む文節が動詞を含む文節に係るものを抽出\" data-toc-modified-id=\"43.-名詞を含む文節が動詞を含む文節に係るものを抽出-1.0.4\"><span class=\"toc-item-num\">1.0.4&nbsp;&nbsp;</span>43. 名詞を含む文節が動詞を含む文節に係るものを抽出</a></span></li><li><span><a href=\"http://localhost:8890/notebooks/t-tagami/Chapter_5/Chapter_5.ipynb#44.-係り受け木の可視化\" data-toc-modified-id=\"44.-係り受け木の可視化-1.0.5\"><span class=\"toc-item-num\">1.0.5&nbsp;&nbsp;</span>44. 係り受け木の可視化</a></span></li><li><span><a href=\"http://localhost:8890/notebooks/t-tagami/Chapter_5/Chapter_5.ipynb#45.-動詞の格パターンの抽出\" data-toc-modified-id=\"45.-動詞の格パターンの抽出-1.0.6\"><span class=\"toc-item-num\">1.0.6&nbsp;&nbsp;</span>45. 動詞の格パターンの抽出</a></span></li><li><span><a href=\"http://localhost:8890/notebooks/t-tagami/Chapter_5/Chapter_5.ipynb#46.-動詞の格フレーム情報の抽出\" data-toc-modified-id=\"46.-動詞の格フレーム情報の抽出-1.0.7\"><span class=\"toc-item-num\">1.0.7&nbsp;&nbsp;</span>46. 動詞の格フレーム情報の抽出</a></span></li><li><span><a href=\"http://localhost:8890/notebooks/t-tagami/Chapter_5/Chapter_5.ipynb#47.-機能動詞構文のマイニング\" data-toc-modified-id=\"47.-機能動詞構文のマイニング-1.0.8\"><span class=\"toc-item-num\">1.0.8&nbsp;&nbsp;</span>47. 機能動詞構文のマイニング</a></span></li><li><span><a href=\"http://localhost:8890/notebooks/t-tagami/Chapter_5/Chapter_5.ipynb#48.-名詞から根へのパスの抽出\" data-toc-modified-id=\"48.-名詞から根へのパスの抽出-1.0.9\"><span class=\"toc-item-num\">1.0.9&nbsp;&nbsp;</span>48. 名詞から根へのパスの抽出</a></span></li><li><span><a href=\"http://localhost:8890/notebooks/t-tagami/Chapter_5/Chapter_5.ipynb#49.-名詞間の係り受けパスの抽出\" data-toc-modified-id=\"49.-名詞間の係り受けパスの抽出-1.0.10\"><span class=\"toc-item-num\">1.0.10&nbsp;&nbsp;</span>49. 名詞間の係り受けパスの抽出</a></span></li></ul></ul></li></ul></div>"
   ]
  },
  {
   "cell_type": "markdown",
   "metadata": {},
   "source": [
    "# 第5章: 係り受け解析"
   ]
  },
  {
   "cell_type": "code",
   "execution_count": 1,
   "metadata": {
    "collapsed": true
   },
   "outputs": [],
   "source": [
    "from pprint import pprint\n",
    "from itertools import groupby\n",
    "from itertools import islice\n",
    "import CaboCha\n",
    "from cytoolz import nth"
   ]
  },
  {
   "cell_type": "code",
   "execution_count": 2,
   "metadata": {
    "scrolled": false
   },
   "outputs": [
    {
     "name": "stdout",
     "output_type": "stream",
     "text": [
      "--2017-07-31 12:41:37--  http://www.cl.ecei.tohoku.ac.jp/nlp100/data/neko.txt\n",
      "Resolving www.cl.ecei.tohoku.ac.jp... 130.34.192.83\n",
      "Connecting to www.cl.ecei.tohoku.ac.jp|130.34.192.83|:80... connected.\n",
      "HTTP request sent, awaiting response... 200 OK\n",
      "Length: 965825 (943K) [text/plain]\n",
      "Saving to: ‘../data/neko.txt.1’\n",
      "\n",
      "neko.txt.1          100%[===================>] 943.19K  --.-KB/s    in 0.1s    \n",
      "\n",
      "2017-07-31 12:41:38 (7.38 MB/s) - ‘../data/neko.txt.1’ saved [965825/965825]\n",
      "\n"
     ]
    }
   ],
   "source": [
    "!wget http://www.cl.ecei.tohoku.ac.jp/nlp100/data/neko.txt -P ../data"
   ]
  },
  {
   "cell_type": "code",
   "execution_count": 3,
   "metadata": {
    "collapsed": true
   },
   "outputs": [],
   "source": [
    "!cabocha -f1 ../data/neko.txt -o ../data/neko.txt.cabocha"
   ]
  },
  {
   "cell_type": "code",
   "execution_count": 4,
   "metadata": {},
   "outputs": [
    {
     "name": "stdout",
     "output_type": "stream",
     "text": [
      "* 0 -1D 0/0 0.000000\r\n",
      "一\t名詞,数,*,*,*,*,一,イチ,イチ\r\n",
      "EOS\r\n",
      "EOS\r\n",
      "* 0 2D 0/0 -0.764522\r\n",
      "　\t記号,空白,*,*,*,*,　,　,　\r\n",
      "* 1 2D 0/1 -0.764522\r\n",
      "吾輩\t名詞,代名詞,一般,*,*,*,吾輩,ワガハイ,ワガハイ\r\n",
      "は\t助詞,係助詞,*,*,*,*,は,ハ,ワ\r\n",
      "* 2 -1D 0/2 0.000000\r\n"
     ]
    }
   ],
   "source": [
    "!head -10 data/neko.txt.cabocha"
   ]
  },
  {
   "cell_type": "code",
   "execution_count": 5,
   "metadata": {},
   "outputs": [
    {
     "name": "stdout",
     "output_type": "stream",
     "text": [
      "1 2 [3, 4, 5]\n",
      "[1, 2]\n",
      "1 2\n",
      "[1, 2]\n",
      "{'-', '%', \"'\", '[', '$', ']', '~', '#', '|', '{', ':', ';', '.', '\\\\', '/', '+', '=', '>', '\"', '?', ',', ')', '^', '}', '_', '@', '<', '!', '&', '(', '`', '*'}\n"
     ]
    }
   ],
   "source": [
    "# オブジェクト指向界隈は闇が深い\n",
    "# データ型と関数が紐づいていると便利\n",
    "# chainer使うならオブジェクト指向が必要\n",
    "# クラス外からクラス内にアクセスするのは良くない→クラス内にメソッドを作る\n",
    "# @classmethod? →　インスタンスがなくても使えるメソッド　\n",
    "# startswith('* ')にすると文中に*が出てきてもおk\n",
    "#__repr__メソッド → デバッグ用にそこそこ詳しい情報を載せる\n",
    "#return self → インスタンスが返ってくる → returnしなくても大丈夫\n",
    "#Enum → 列挙型 → enumの肝は値に名前をつけられる\n",
    "#namedtuple → 名前付きのタプルを作る → enumと似てるけど初期値が必要でめんどくさい\n",
    "#テスト → プログラミング界隈でのプログラムを試すこと http://qiita.com/phimcall/items/7378ec86fbabdca83257\n",
    "#全ての関数にtestを書け\n",
    "assert(1)\n",
    "#assert(0) → Falseだとエラー返してくれる\n",
    "hoge = 'abc'\n",
    "hoge.replace('b', 'd', 1) #1回だけ置換→高速化のテクニック\n",
    "#アンパック代入\n",
    "hoge1, hoge2, *hoge3 = [1, 2, 3, 4, 5]\n",
    "print(hoge1, hoge2, hoge3)\n",
    "\n",
    "print([1, 2])\n",
    "print(*[1, 2])\n",
    "\n",
    "def foo(bar, baz):\n",
    "    return bar + baz\n",
    "foo(bar=1, baz=2)\n",
    "d = {'foo':1, 'bar':2}\n",
    "foo(*d)\n",
    "# foo(**d)\n",
    "from cytoolz import nth #isliceと違ってピンポイントで持ってこれる\n",
    "#インスタンスメソッドの変数はの一つ目はselfと書くのがお作法\n",
    "#flagは普通is_なんたらにする\n",
    "#mutableな変数を引数にしない e.g.リストとか\n",
    "#YSNRコード → chunkの数がわかってるからリストの数を確保している\n",
    "[[]]*3\n",
    "#ファイルに保存しておけばいちいちShift*Enterがいらない\n",
    "wa = [1]\n",
    "wa += [2]\n",
    "print(wa)\n",
    "#srcsを保存する辞書はdefault dictを使うと少し楽かも\n",
    "#sentenceクラスを定義するのもありらしい\n",
    "\n",
    "#こうすると少し速い\n",
    "list_hoge = []\n",
    "hoge_append = list_hoge.append\n",
    "hoge_append([1])\n",
    "\n",
    "#クラスにはヘルパーという概念がある\n",
    "\n",
    "#クラス変数とインスタンス変数\n",
    "#クラス利用者としてインスタンス化の手段が一つではないほうがいい\n",
    "#Morph(line)\n",
    "#m = Morph.from_line(line)\n",
    "#Morph(base, surface, pos, pos1)だと応用が利かない\n",
    "\n",
    "from collections.abc import Sequence\n",
    "#便利らしい　時間があまりに余ったら\n",
    "\n",
    "#dp → 動的計画法\n",
    "#@lru_cache → デコレータ\n",
    "#max_sizeで指定した個数だけ引数を保持できる\n",
    "\n",
    "#関数ではなくクラスのメソッドにしておくと一手間省ける 関数だけで頑張るのはC言語時代のコード\n",
    "#classメソッドをいじるならクラス内に書く \n",
    "#is_verbじゃなくてcontain_verbだなこれは\n",
    "\n",
    "#anyとall こんなのあったな\n",
    "\n",
    "import argparse\n",
    "#unixのごとく任意の引数を与えることができる\n",
    "#コマンドレベルから引数名付きで実行できる　他の人に渡す時にも便利 チュートリアル読んでおく\n",
    "\n",
    "from string import punctuation\n",
    "from string import printable\n",
    "#句読点を除きたい時とかに便利\n",
    "\n",
    "print(set(punctuation))"
   ]
  },
  {
   "cell_type": "markdown",
   "metadata": {},
   "source": [
    "### 40. 係り受け解析結果の読み込み（形態素）\n",
    "形態素を表すクラスMorphを実装せよ．このクラスは表層形（surface），基本形（base），品詞（pos），品詞細分類1（pos1）をメンバ変数に持つこととする．さらに，CaboChaの解析結果（neko.txt.cabocha）を読み込み，各文をMorphオブジェクトのリストとして表現し，3文目の形態素列を表示せよ．"
   ]
  },
  {
   "cell_type": "code",
   "execution_count": 6,
   "metadata": {
    "collapsed": true
   },
   "outputs": [],
   "source": [
    "class Morph():\n",
    "    def __init__(self, surface, base, pos, pos1):\n",
    "        self.surface = surface\n",
    "        self.base = base\n",
    "        self.pos = pos\n",
    "        self.pos1 = pos1\n",
    "    \n",
    "    @classmethod\n",
    "    def make_morph(cls, line):\n",
    "        line_list = line.rstrip().replace('\\t', ',').split(',')\n",
    "        return (Morph(line_list[0], line_list[7],\n",
    "                     line_list[1], line_list[2]))\n",
    "    @classmethod\n",
    "    def get_morph_list(cls, sentence):\n",
    "        morph_list = []\n",
    "        for line in sentence:\n",
    "            if not line.startswith('* '): morph_list.append(Morph.make_morph(line))\n",
    "        if morph_list: return morph_list\n",
    "    \n",
    "    def __str__(self):\n",
    "        return ('{}\\t{}\\t{}\\t{}'.format(self.surface, self.base, self.pos, self.pos1))\n",
    "        \n",
    "def read_txt_cabocha():\n",
    "    with open('data/neko.txt.cabocha') as f_text:\n",
    "        for is_EOS, grouped in groupby(f_text, key=lambda x:x.rstrip() == 'EOS'):\n",
    "            if not is_EOS: yield list(grouped)\n",
    "        \n",
    "def make_morph_object():\n",
    "    for sentence in read_txt_cabocha(): yield Morph.get_morph_list(sentence)"
   ]
  },
  {
   "cell_type": "code",
   "execution_count": 7,
   "metadata": {},
   "outputs": [
    {
     "name": "stdout",
     "output_type": "stream",
     "text": [
      "　\t　\t記号\t空白\n",
      "どこ\tどこ\t名詞\t代名詞\n",
      "で\tで\t助詞\t格助詞\n",
      "生れ\t生れる\t動詞\t自立\n",
      "た\tた\t助動詞\t*\n",
      "か\tか\t助詞\t副助詞／並立助詞／終助詞\n",
      "とんと\tとんと\t副詞\t一般\n",
      "見当\t見当\t名詞\tサ変接続\n",
      "が\tが\t助詞\t格助詞\n",
      "つか\tつく\t動詞\t自立\n",
      "ぬ\tぬ\t助動詞\t*\n",
      "。\t。\t記号\t句点\n"
     ]
    }
   ],
   "source": [
    "for sentence in nth(3, make_morph_object()): print(sentence)"
   ]
  },
  {
   "cell_type": "markdown",
   "metadata": {},
   "source": [
    "### 41. 係り受け解析結果の読み込み（文節・係り受け）\n",
    "40に加えて，文節を表すクラスChunkを実装せよ．このクラスは形態素（Morphオブジェクト）のリスト（morphs），係り先文節インデックス番号（dst），係り元文節インデックス番号のリスト（srcs）をメンバ変数に持つこととする．さらに，入力テキストのCaboChaの解析結果を読み込み，１文をChunkオブジェクトのリストとして表現し，8文目の文節の文字列と係り先を表示せよ．第5章の残りの問題では，ここで作ったプログラムを活用せよ．"
   ]
  },
  {
   "cell_type": "code",
   "execution_count": 8,
   "metadata": {
    "collapsed": true
   },
   "outputs": [],
   "source": [
    "class Chunk():\n",
    "    def __init__(self):\n",
    "        self.morphs = []\n",
    "        self.dst = ''\n",
    "        self.srcs = []\n",
    "        self.idx = ''\n",
    "        \n",
    "    def set_dst_idx(self, line_list):\n",
    "        self.dst = int(line_list[2].rstrip('D'))\n",
    "        self.idx = int(line_list[1])\n",
    "    \n",
    "    def set_morphs(self, line):\n",
    "        self.morphs.append(Morph.make_morph(line))\n",
    "        \n",
    "    def set_srcs(self, result_list):\n",
    "        for line in result_list:\n",
    "            if line.dst != -1: result_list[line.dst].srcs.append(line.idx)\n",
    "            \n",
    "    def contain_pos(self, parts):\n",
    "        for morph in self.morphs:\n",
    "            if morph.pos == parts: return True\n",
    "        return False\n",
    "    \n",
    "    def contain_sahen_wo(self):\n",
    "        for i1 in range(len(self.morphs)-1):\n",
    "            if self.morphs[i1].pos1 == 'サ変接続' and self.morphs[i1+1].surface == 'を': return True\n",
    "        return False\n",
    "        \n",
    "    def get_morph_surface(self):\n",
    "        return ''.join(morph.surface for morph in self.morphs if not morph.pos == '記号')\n",
    "    \n",
    "    def get_surf_pos(self, fpos):\n",
    "        temp = ''\n",
    "        for morph in self.morphs:\n",
    "            if morph.pos == fpos: temp = morph.surface\n",
    "        return temp\n",
    "\n",
    "    def get_left_base(self, fpos):\n",
    "        for morph in self.morphs:\n",
    "            if morph.pos == fpos: return morph.base\n",
    "        \n",
    "    @classmethod\n",
    "    def get_chunk_object(cls, sentence):\n",
    "        result_list = []\n",
    "        temp = Chunk()\n",
    "        for line in sentence:\n",
    "            if line.startswith('* '):\n",
    "                if temp.dst:\n",
    "                    result_list.append(temp)\n",
    "                    temp = Chunk()\n",
    "                temp.set_dst_idx(line.split())\n",
    "            else: temp.set_morphs(line)\n",
    "        result_list.append(temp)\n",
    "        temp.set_srcs(result_list)\n",
    "        return result_list\n",
    "        \n",
    "    def extract_path_to_root(self):\n",
    "        chunk_list = [chunk]\n",
    "        while chunk_list[-1].dst != -1:\n",
    "            chunk_list.append(sentence[chunk_list[-1].dst])\n",
    "        return (' -> '.join(i1.get_morph_surface() for i1 in chunk_list) + '\\n')\n",
    "    \n",
    "    def replace_surface(self, f_char):\n",
    "        surfaces = ''\n",
    "        for morph in self.morphs:\n",
    "            if morph.pos == '名詞': surfaces += f_char\n",
    "            elif morph.pos != '記号': surfaces += morph.surface.lstrip('\\u3000X')\n",
    "            else: pass\n",
    "        return surfaces\n",
    "    \n",
    "    @classmethod\n",
    "    def get_noun_clause_idx(cls, sentence):\n",
    "        return [chunk.idx for chunk in sentence if chunk.contain_pos('名詞')]\n",
    "    \n",
    "    def __str__(self):\n",
    "        return ''.join(morph.surface for morph in self.morphs if not morph.pos == '記号')\n",
    "    \n",
    "def make_chunk_object_list():\n",
    "    for sentence in read_txt_cabocha():\n",
    "        yield Chunk.get_chunk_object(sentence)"
   ]
  },
  {
   "cell_type": "code",
   "execution_count": 9,
   "metadata": {},
   "outputs": [
    {
     "name": "stdout",
     "output_type": "stream",
     "text": [
      "係り先 1 係り元 [] この\n",
      "係り先 7 係り元 [0] 書生というのは\n",
      "係り先 4 係り元 [] 時々\n",
      "係り先 4 係り元 [] 我々を\n",
      "係り先 5 係り元 [2, 3] 捕えて\n",
      "係り先 6 係り元 [4] 煮て\n",
      "係り先 7 係り元 [5] 食うという\n",
      "係り先 -1 係り元 [1, 6] 話である\n"
     ]
    }
   ],
   "source": [
    "for sentence in nth(7, make_chunk_object_list()):\n",
    "    print('係り先', sentence.dst, '係り元', sentence.srcs, sentence)"
   ]
  },
  {
   "cell_type": "markdown",
   "metadata": {},
   "source": [
    "### 42. 係り元と係り先の文節の表示\n",
    "係り元の文節と係り先の文節のテキストをタブ区切り形式ですべて抽出せよ．ただし，句読点などの記号は出力しないようにせよ．"
   ]
  },
  {
   "cell_type": "code",
   "execution_count": 10,
   "metadata": {
    "collapsed": true
   },
   "outputs": [],
   "source": [
    "with open('work/42_result.txt', 'w') as f_42:\n",
    "    for sentence in make_chunk_object_list():\n",
    "        for chunk in sentence:\n",
    "            if chunk.dst != -1: f_42.write('{}\\t{}\\n'.format(chunk, sentence[chunk.dst]))"
   ]
  },
  {
   "cell_type": "code",
   "execution_count": 11,
   "metadata": {
    "scrolled": true
   },
   "outputs": [
    {
     "name": "stdout",
     "output_type": "stream",
     "text": [
      "\t猫である\n",
      "吾輩は\t猫である\n",
      "名前は\t無い\n",
      "まだ\t無い\n",
      "どこで\t生れたか\n",
      "生れたか\tつかぬ\n",
      "とんと\tつかぬ\n",
      "見当が\tつかぬ\n",
      "何でも\t薄暗い\n",
      "薄暗い\t所で\n",
      "   71772\n"
     ]
    }
   ],
   "source": [
    "!head work/42_result.txt\n",
    "!cat work/42_result.txt | wc -l"
   ]
  },
  {
   "cell_type": "markdown",
   "metadata": {},
   "source": [
    "### 43. 名詞を含む文節が動詞を含む文節に係るものを抽出\n",
    "名詞を含む文節が，動詞を含む文節に係るとき，これらをタブ区切り形式で抽出せよ．ただし，句読点などの記号は出力しないようにせよ．"
   ]
  },
  {
   "cell_type": "code",
   "execution_count": 12,
   "metadata": {
    "collapsed": true
   },
   "outputs": [],
   "source": [
    "with open('work/43_result.txt', 'w') as f_43:\n",
    "    for sentence in make_chunk_object_list():\n",
    "        for chunk in sentence:\n",
    "            if chunk.dst != -1 and chunk.contain_pos('名詞') and sentence[chunk.dst].contain_pos('動詞'):\n",
    "                    f_43.write('{}\\t{}\\n'.format(chunk, sentence[chunk.dst]))"
   ]
  },
  {
   "cell_type": "code",
   "execution_count": 13,
   "metadata": {},
   "outputs": [
    {
     "name": "stdout",
     "output_type": "stream",
     "text": [
      "どこで\t生れたか\n",
      "見当が\tつかぬ\n",
      "所で\t泣いて\n",
      "ニャーニャー\t泣いて\n",
      "いた事だけは\t記憶している\n",
      "吾輩は\t見た\n",
      "ここで\t始めて\n",
      "ものを\t見た\n",
      "あとで\t聞くと\n",
      "我々を\t捕えて\n",
      "   29106\n"
     ]
    }
   ],
   "source": [
    "!head work/43_result.txt\n",
    "!cat work/43_result.txt | wc -l"
   ]
  },
  {
   "cell_type": "markdown",
   "metadata": {},
   "source": [
    "### 44. 係り受け木の可視化\n",
    "与えられた文の係り受け木を有向グラフとして可視化せよ．可視化には，係り受け木をDOT言語に変換し，Graphvizを用いるとよい．また，Pythonから有向グラフを直接的に可視化するには，pydotを使うとよい"
   ]
  },
  {
   "cell_type": "code",
   "execution_count": 14,
   "metadata": {
    "collapsed": true
   },
   "outputs": [],
   "source": [
    "from graphviz import Digraph\n",
    "from IPython.display import Image\n",
    "\n",
    "def make_dot_graph(sentence):\n",
    "    G = Digraph(format = 'png')\n",
    "    G.attr('node', shape='ellipse')\n",
    "    for chunk in sentence:\n",
    "        G.node(str(chunk.idx), chunk.get_morph_surface()) \n",
    "        if chunk.dst != -1: G.edge(str(chunk.idx), str(chunk.dst))\n",
    "    print(G.source) #dot言語を表示\n",
    "    G.render('../work/tree') "
   ]
  },
  {
   "cell_type": "code",
   "execution_count": 15,
   "metadata": {},
   "outputs": [
    {
     "name": "stdout",
     "output_type": "stream",
     "text": [
      "digraph {\n",
      "\tnode [shape=ellipse]\n",
      "\t0 [label=\"この\"]\n",
      "\t\t0 -> 1\n",
      "\t1 [label=\"書生というのは\"]\n",
      "\t\t1 -> 7\n",
      "\t2 [label=\"時々\"]\n",
      "\t\t2 -> 4\n",
      "\t3 [label=\"我々を\"]\n",
      "\t\t3 -> 4\n",
      "\t4 [label=\"捕えて\"]\n",
      "\t\t4 -> 5\n",
      "\t5 [label=\"煮て\"]\n",
      "\t\t5 -> 6\n",
      "\t6 [label=\"食うという\"]\n",
      "\t\t6 -> 7\n",
      "\t7 [label=\"話である\"]\n",
      "}\n"
     ]
    },
    {
     "data": {
      "image/png": "[encoded data removed]",
      "text/plain": [
       "<IPython.core.display.Image object>"
      ]
     },
     "execution_count": 15,
     "metadata": {},
     "output_type": "execute_result"
    }
   ],
   "source": [
    "for sentence in islice(make_chunk_object_list(), 7, 8): make_dot_graph(sentence)\n",
    "Image(filename = '../work/tree.png')"
   ]
  },
  {
   "cell_type": "markdown",
   "metadata": {},
   "source": [
    "### 45. 動詞の格パターンの抽出\n",
    "今回用いている文章をコーパスと見なし，日本語の述語が取りうる格を調査したい． 動詞を述語，動詞に係っている文節の助詞を格と考え，述語と格をタブ区切り形式で出力せよ． ただし，出力は以下の仕様を満たすようにせよ．\n",
    "* 動詞を含む文節において，最左の動詞の基本形を述語とする\n",
    "* 述語に係る助詞を格とする\n",
    "* 述語に係る助詞（文節）が複数あるときは，すべての助詞をスペース区切りで辞書順に並べる\n",
    "「吾輩はここで始めて人間というものを見た」という例文（neko.txt.cabochaの8文目）を考える． この文は「始める」と「見る」の２つの動詞を含み，「始める」に係る文節は「ここで」，「見る」に係る文節は「吾輩は」と「ものを」と解析された場合は，次のような出力になるはずである．\n",
    "* 始める  で\n",
    "* 見る    は を\n",
    "\n",
    "このプログラムの出力をファイルに保存し，以下の事項をUNIXコマンドを用いて確認せよ．\n",
    "* コーパス中で頻出する述語と格パターンの組み合わせ\n",
    "* 「する」「見る」「与える」という動詞の格パターン（コーパス中で出現頻度の高い順に並べよ）"
   ]
  },
  {
   "cell_type": "code",
   "execution_count": 16,
   "metadata": {
    "collapsed": true
   },
   "outputs": [],
   "source": [
    "def extract_case_pattern():\n",
    "    for sent in make_chunk_object_list():\n",
    "        for chunk in filter(lambda x: x.contain_pos('動詞'), sent):\n",
    "            particles = ' '.join([sent[src].get_surf_pos('助詞') \n",
    "                                  for src in chunk.srcs if sent[src].contain_pos('助詞')])\n",
    "            yield '{}\\t{}\\n'.format(chunk.get_left_base('動詞'), particles)"
   ]
  },
  {
   "cell_type": "code",
   "execution_count": 17,
   "metadata": {
    "collapsed": true
   },
   "outputs": [],
   "source": [
    "with open('work/45_result.txt', 'w') as f_45:\n",
    "    for i1 in extract_case_pattern(): f_45.write(i1)"
   ]
  },
  {
   "cell_type": "code",
   "execution_count": 18,
   "metadata": {},
   "outputs": [
    {
     "name": "stdout",
     "output_type": "stream",
     "text": [
      "生れる\tで\r\n",
      "つく\tか が\r\n",
      "する\t\r\n",
      "泣く\tで\r\n",
      "する\tて は\r\n",
      "始める\tで\r\n",
      "見る\tは を\r\n",
      "聞く\tで\r\n",
      "捕える\tを\r\n",
      "煮る\tて\r\n"
     ]
    }
   ],
   "source": [
    "! head work/45_result.txt"
   ]
  },
  {
   "cell_type": "code",
   "execution_count": 19,
   "metadata": {},
   "outputs": [
    {
     "name": "stdout",
     "output_type": "stream",
     "text": [
      " 704 云う\tと\r\n",
      " 452 する\tを\r\n",
      " 435 する\t\r\n",
      " 333 思う\tと\r\n",
      " 202 ある\tが\r\n",
      " 199 なる\tに\r\n",
      " 188 する\tに\r\n",
      " 175 見る\tて\r\n",
      " 159 する\tと\r\n",
      " 122 云う\t\r\n",
      " 117 する\tが\r\n",
      " 108 なる\t\r\n",
      "  98 見る\tを\r\n",
      "  97 見える\tと\r\n",
      "  94 ある\t\r\n",
      "  89 いる\t\r\n",
      "  88 する\tて を\r\n",
      "  85 する\tは\r\n",
      "  80 見る\t\r\n",
      "  67 聞く\t\r\n",
      "  61 する\tを に\r\n",
      "  61 する\tて\r\n",
      "  60 もつ\tを\r\n",
      "  60 する\tも\r\n",
      "  57 ある\tの\r\n",
      "  56 云う\tを\r\n",
      "  54 する\tが を\r\n",
      "  52 する\tに を\r\n",
      "  52 行く\tへ\r\n",
      "  52 ある\tも\r\n"
     ]
    }
   ],
   "source": [
    "! cat work/45_result.txt | sort | uniq -c | sort -nr 2> /dev/null | head -30\n",
    "#sortして重複行をひとまとまりにしてuniqでまとめる uniqのcは重複数を先頭に付加\n",
    "#sort -nrで数値で降順にsort broken pipe対策 http://qiita.com/kkdd/items/f9829af2fbb9c3c980da"
   ]
  },
  {
   "cell_type": "code",
   "execution_count": 20,
   "metadata": {},
   "outputs": [
    {
     "name": "stdout",
     "output_type": "stream",
     "text": [
      " 452 する\tを\r\n",
      " 435 する\t\r\n",
      " 188 する\tに\r\n",
      " 175 見る\tて\r\n",
      " 159 する\tと\r\n",
      " 117 する\tが\r\n",
      "  98 見る\tを\r\n",
      "  88 する\tて を\r\n",
      "  85 する\tは\r\n",
      "  80 見る\t\r\n",
      "  61 する\tを に\r\n",
      "  61 する\tて\r\n",
      "  60 する\tも\r\n",
      "  54 する\tが を\r\n",
      "  52 する\tに を\r\n",
      "  51 する\tから\r\n",
      "  44 する\tと を\r\n",
      "  44 する\tで を\r\n",
      "  40 する\tの\r\n",
      "  37 する\tは を\r\n",
      "  36 する\tで\r\n",
      "  33 する\tから を\r\n",
      "  25 する\tと が\r\n",
      "  23 見る\tて て\r\n",
      "  23 する\tは に\r\n",
      "  22 する\tて に\r\n",
      "  21 する\tと は\r\n",
      "  21 する\tが に\r\n",
      "  20 見る\tから\r\n",
      "  19 する\tと は を\r\n"
     ]
    }
   ],
   "source": [
    "! cat work/45_result.txt | grep -E 'する|見る|与える' | sort | uniq -c | sort -r | head -30\n",
    "#grep -E　のEは拡張正規表現使うため"
   ]
  },
  {
   "cell_type": "markdown",
   "metadata": {
    "collapsed": true
   },
   "source": [
    "### 46. 動詞の格フレーム情報の抽出\n",
    "45のプログラムを改変し，述語と格パターンに続けて項（述語に係っている文節そのもの）をタブ区切り形式で出力せよ．45の仕様に加えて，以下の仕様を満たすようにせよ．\n",
    "\n",
    "* 項は述語に係っている文節の単語列とする（末尾の助詞を取り除く必要はない）\n",
    "* 述語に係る文節が複数あるときは，助詞と同一の基準・順序でスペース区切りで並べる\n",
    "「吾輩はここで始めて人間というものを見た」という例文（neko.txt.cabochaの8文目）を考える． この文は「始める」と「見る」の２つの動詞を含み，「始める」に係る文節は「ここで」，「見る」に係る文節は「吾輩は」と「ものを」と解析された場合は，次のような出力になるはずである．\n",
    "```\n",
    "始める  で      ここで\n",
    "見る    は を   吾輩は ものを\n",
    "```\n"
   ]
  },
  {
   "cell_type": "code",
   "execution_count": 21,
   "metadata": {
    "collapsed": true
   },
   "outputs": [],
   "source": [
    "def extract_case_frame():\n",
    "    for sent in make_chunk_object_list():\n",
    "        for chunk in filter(lambda x: x.contain_pos('動詞'), sent):\n",
    "            particles = ' '.join([sent[src_num].get_surf_pos('助詞') \n",
    "                                  for src_num in chunk.srcs if sent[src_num].contain_pos('助詞')])\n",
    "            terms = ' '.join([sent[src_num].get_morph_surface() \n",
    "                              for src_num in chunk.srcs if sent[src_num].contain_pos('助詞')])\n",
    "            if particles: yield '{}\\t{}\\t{}\\n'.format(chunk.get_left_base('動詞'), particles, terms)"
   ]
  },
  {
   "cell_type": "code",
   "execution_count": 22,
   "metadata": {
    "collapsed": true
   },
   "outputs": [],
   "source": [
    "with open('work/46_result.txt', 'w') as f_46:\n",
    "    for i1 in extract_case_frame(): f_46.write(i1)"
   ]
  },
  {
   "cell_type": "code",
   "execution_count": 23,
   "metadata": {},
   "outputs": [
    {
     "name": "stdout",
     "output_type": "stream",
     "text": [
      "生れる\tで\tどこで\r\n",
      "つく\tか が\t生れたか 見当が\r\n",
      "泣く\tで\t所で\r\n",
      "する\tて は\t泣いて いた事だけは\r\n",
      "始める\tで\tここで\r\n",
      "見る\tは を\t吾輩は ものを\r\n",
      "聞く\tで\tあとで\r\n",
      "捕える\tを\t我々を\r\n",
      "煮る\tて\t捕えて\r\n",
      "食う\tて\t煮て\r\n"
     ]
    }
   ],
   "source": [
    "!head work/46_result.txt"
   ]
  },
  {
   "cell_type": "markdown",
   "metadata": {},
   "source": [
    "### 47. 機能動詞構文のマイニング\n",
    "動詞のヲ格にサ変接続名詞が入っている場合のみに着目したい．46のプログラムを以下の仕様を満たすように改変せよ．\n",
    "\n",
    "* 「サ変接続名詞+を（助詞）」で構成される文節が動詞に係る場合のみを対象とする\n",
    "* 述語は「サ変接続名詞+を+動詞の基本形」とし，文節中に複数の動詞があるときは，最左の動詞を用いる\n",
    "* 述語に係る助詞（文節）が複数あるときは，すべての助詞をスペース区切りで辞書順に並べる\n",
    "* 述語に係る文節が複数ある場合は，すべての項をスペース区切りで並べる（助詞の並び順と揃えよ）\n",
    "例えば「別段くるにも及ばんさと、主人は手紙に返事をする。」という文から，以下の出力が得られるはずである．\n",
    "```\n",
    "返事をする      と に は        及ばんさと 手紙に 主人は\n",
    "```\n",
    "このプログラムの出力をファイルに保存し，以下の事項をUNIXコマンドを用いて確認せよ．\n",
    "\n",
    "* コーパス中で頻出する述語（サ変接続名詞+を+動詞）\n",
    "* コーパス中で頻出する述語と助詞パターン"
   ]
  },
  {
   "cell_type": "code",
   "execution_count": 24,
   "metadata": {
    "collapsed": true
   },
   "outputs": [],
   "source": [
    "def mine_light_verb_construction():\n",
    "    for sent in make_chunk_object_list():\n",
    "        for chunk in filter(lambda x: x.contain_pos('動詞'), sent):\n",
    "            temp = ' '.join([sent[src_num].get_morph_surface() for src_num in chunk.srcs if sent[src_num].contain_sahen_wo()])\n",
    "            if temp:\n",
    "                particles = ' '.join([sent[src_num].get_surf_pos('助詞') for src_num in chunk.srcs\n",
    "                                      if sent[src_num].contain_pos('助詞') and not sent[src_num].contain_sahen_wo()])\n",
    "                terms = ' '.join([sent[src_num].get_morph_surface() for src_num in chunk.srcs\n",
    "                                  if sent[src_num].contain_pos('助詞') and not sent[src_num].contain_sahen_wo()])\n",
    "                yield '{}{}\\t{}\\t{}\\n'.format(temp, chunk.get_left_base('動詞'), particles, terms)"
   ]
  },
  {
   "cell_type": "code",
   "execution_count": 25,
   "metadata": {
    "collapsed": true
   },
   "outputs": [],
   "source": [
    "with open('work/47_result.txt', 'w') as f_47:\n",
    "    for i1 in mine_light_verb_construction(): f_47.write(i1)"
   ]
  },
  {
   "cell_type": "code",
   "execution_count": 26,
   "metadata": {},
   "outputs": [
    {
     "name": "stdout",
     "output_type": "stream",
     "text": [
      "決心をする\tと\tこうと\r\n",
      "返報をする\tんで\t偸んで\r\n",
      "昼寝をする\t\t\r\n",
      "昼寝をする\tが\t彼が\r\n",
      "迫害を加える\tて\t追い廻して\r\n",
      "家族的生活をする\tが を\t我等猫族が 愛を\r\n",
      "話をする\t\t\r\n",
      "投書をする\tて へ\tやって ほととぎすへ\r\n",
      "話をする\tに\t時に\r\n",
      "写生をする\t\t\r\n"
     ]
    }
   ],
   "source": [
    "!head work/47_result.txt"
   ]
  },
  {
   "cell_type": "code",
   "execution_count": 27,
   "metadata": {},
   "outputs": [
    {
     "name": "stdout",
     "output_type": "stream",
     "text": [
      "  29 返事をする\r\n",
      "  21 挨拶をする\r\n",
      "  14 真似をする\r\n",
      "  14 話をする\r\n",
      "  11 喧嘩をする\r\n",
      "   8 質問をする\r\n",
      "   7 運動をする\r\n",
      "   6 昼寝をする\r\n",
      "   6 話を聞く\r\n",
      "   5 質問をかける\r\n",
      "   5 相談をする\r\n",
      "   5 病気をする\r\n",
      "   5 注意をする\r\n",
      "   5 問答をする\r\n",
      "   4 いたずらをする\r\n",
      "   4 御辞儀をする\r\n",
      "   4 休養を要する\r\n",
      "   4 演説をする\r\n",
      "   4 欠伸をする\r\n",
      "   3 一大活躍を試みる\r\n",
      "   3 落着を告げる\r\n",
      "   3 深入りをする\r\n",
      "   3 御化粧をする\r\n",
      "   3 往来をあるく\r\n",
      "   3 同情を表する\r\n",
      "   3 降参をする\r\n",
      "   3 遠慮をする\r\n",
      "   3 議論をする\r\n",
      "   3 講釈をする\r\n",
      "   3 講義をする\r\n"
     ]
    }
   ],
   "source": [
    "! cut -f 1 work/47_result.txt | sort | uniq -c | sort -nr | head -30"
   ]
  },
  {
   "cell_type": "code",
   "execution_count": 28,
   "metadata": {},
   "outputs": [
    {
     "name": "stdout",
     "output_type": "stream",
     "text": [
      "   8 真似をする\t\r\n",
      "   6 返事をする\tと\r\n",
      "   6 運動をする\t\r\n",
      "   4 挨拶をする\tから\r\n",
      "   4 挨拶をする\tと\r\n",
      "   4 返事をする\t\r\n",
      "   4 喧嘩をする\t\r\n",
      "   4 話を聞く\t\r\n",
      "   3 質問をかける\tと は\r\n",
      "   3 返事をする\tは と\r\n",
      "   3 喧嘩をする\tと\r\n",
      "   3 話をする\t\r\n",
      "   2 御無沙汰をする\t\r\n",
      "   2 いたずらをする\t\r\n",
      "   2 同情を表する\tと は て\r\n",
      "   2 休養を要する\tは\r\n",
      "   2 深入りをする\t\r\n",
      "   2 挨拶をする\tと も\r\n",
      "   2 議論をする\tて\r\n",
      "   2 講義をする\tで\r\n",
      "   2 覚悟をする\tと\r\n",
      "   2 挨拶をする\tで\r\n",
      "   2 安心を得る\tが\r\n",
      "   2 遠慮をする\t\r\n",
      "   2 行動をとる\t\r\n",
      "   2 病気をする\t\r\n",
      "   2 注意を惹く\t\r\n",
      "   2 散歩をする\t\r\n",
      "   2 挨拶をする\t\r\n",
      "   2 平均を破る\t\r\n"
     ]
    }
   ],
   "source": [
    "! cut -f 1,2 work/47_result.txt | sort | uniq -c | sort -nr | head -30"
   ]
  },
  {
   "cell_type": "markdown",
   "metadata": {},
   "source": [
    "### 48. 名詞から根へのパスの抽出\n",
    "文中のすべての名詞を含む文節に対し，その文節から構文木の根に至るパスを抽出せよ． ただし，構文木上のパスは以下の仕様を満たすものとする．\n",
    "\n",
    "* 各文節は（表層形の）形態素列で表現する\n",
    "* パスの開始文節から終了文節に至るまで，各文節の表現を\"->\"で連結する\n",
    "「吾輩はここで始めて人間というものを見た」という文（neko.txt.cabochaの8文目）から，次のような出力が得られるはずである．\n",
    "```\n",
    "吾輩は -> 見た\n",
    "ここで -> 始めて -> 人間という -> ものを -> 見た\n",
    "人間という -> ものを -> 見た\n",
    "ものを -> 見た\n",
    "```"
   ]
  },
  {
   "cell_type": "code",
   "execution_count": 29,
   "metadata": {
    "collapsed": true
   },
   "outputs": [],
   "source": [
    "def extract_path_to_root():\n",
    "    for sent in make_chunk_object_list():\n",
    "        for chunk in filter(lambda x: x.contain_pos('名詞'), sent):\n",
    "                chunk_list = [chunk]\n",
    "                while chunk_list[-1].dst != -1:\n",
    "                    chunk_list.append(sent[chunk_list[-1].dst])\n",
    "                yield (' -> '.join(i1.get_morph_surface() for i1 in chunk_list) + '\\n')"
   ]
  },
  {
   "cell_type": "code",
   "execution_count": 30,
   "metadata": {
    "collapsed": true
   },
   "outputs": [],
   "source": [
    "with open('work/48_result.txt', 'w') as f_48:\n",
    "    for i1 in extract_path_to_root(): f_48.write(i1)"
   ]
  },
  {
   "cell_type": "code",
   "execution_count": 31,
   "metadata": {},
   "outputs": [
    {
     "name": "stdout",
     "output_type": "stream",
     "text": [
      "一\r\n",
      "吾輩は -> 猫である\r\n",
      "猫である\r\n",
      "名前は -> 無い\r\n",
      "どこで -> 生れたか -> つかぬ\r\n",
      "見当が -> つかぬ\r\n",
      "何でも -> 薄暗い -> 所で -> 泣いて -> 記憶している\r\n",
      "所で -> 泣いて -> 記憶している\r\n",
      "ニャーニャー -> 泣いて -> 記憶している\r\n",
      "いた事だけは -> 記憶している\r\n",
      "記憶している\r\n",
      "吾輩は -> 見た\r\n",
      "ここで -> 始めて -> 人間という -> ものを -> 見た\r\n",
      "人間という -> ものを -> 見た\r\n",
      "ものを -> 見た\r\n"
     ]
    }
   ],
   "source": [
    "!head -15 work/48_result.txt"
   ]
  },
  {
   "cell_type": "markdown",
   "metadata": {},
   "source": [
    "### 49. 名詞間の係り受けパスの抽出\n",
    "文中のすべての名詞句のペアを結ぶ最短係り受けパスを抽出せよ．ただし，名詞句ペアの文節番号がiとj（i<ji<j）のとき，係り受けパスは以下の仕様を満たすものとする．\n",
    "\n",
    "* 問題48と同様に，パスは開始文節から終了文節に至るまでの各文節の表現（表層形の形態素列）を\"->\"で連結して表現する\n",
    "* 文節iとjに含まれる名詞句はそれぞれ，XとYに置換する\n",
    "また，係り受けパスの形状は，以下の2通りが考えられる．\n",
    "\n",
    "* 文節iから構文木の根に至る経路上に文節jが存在する場合: 文節iから文節jのパスを表示\n",
    "* 上記以外で，文節iと文節jから構文木の根に至る経路上で共通の文節kで交わる場合: 文節iから文節kに至る直前のパスと文節jから文節kに至る直前までのパス，文節kの内容を\"|\"で連結して表示\n",
    "例えば，「吾輩はここで始めて人間というものを見た。」という文（neko.txt.cabochaの8文目）から，次のような出力が得られるはずである．\n",
    "```\n",
    "Xは | Yで -> 始めて -> 人間という -> ものを | 見た\n",
    "Xは | Yという -> ものを | 見た\n",
    "Xは | Yを | 見た\n",
    "Xで -> 始めて -> Y\n",
    "Xで -> 始めて -> 人間という -> Y\n",
    "Xという -> Y\n",
    "```"
   ]
  },
  {
   "cell_type": "code",
   "execution_count": 45,
   "metadata": {},
   "outputs": [
    {
     "name": "stdout",
     "output_type": "stream",
     "text": [
      "digraph {\n",
      "\tnode [shape=ellipse]\n",
      "\t0 [label=\"吾輩は\"]\n",
      "\t\t0 -> 5\n",
      "\t1 [label=\"ここで\"]\n",
      "\t\t1 -> 2\n",
      "\t2 [label=\"始めて\"]\n",
      "\t\t2 -> 3\n",
      "\t3 [label=\"人間という\"]\n",
      "\t\t3 -> 4\n",
      "\t4 [label=\"ものを\"]\n",
      "\t\t4 -> 5\n",
      "\t5 [label=\"見た\"]\n",
      "}\n"
     ]
    },
    {
     "data": {
      "image/png": "[encoded data removed]",
      "text/plain": [
       "<IPython.core.display.Image object>"
      ]
     },
     "execution_count": 45,
     "metadata": {},
     "output_type": "execute_result"
    }
   ],
   "source": [
    "for sentence in islice(make_chunk_object_list(), 5, 6): make_dot_graph(sentence)\n",
    "Image(filename = '../work/tree.png')"
   ]
  },
  {
   "cell_type": "code",
   "execution_count": 33,
   "metadata": {
    "collapsed": true
   },
   "outputs": [],
   "source": [
    "from itertools import combinations\n",
    "\n",
    "with open('work/49_result.txt', 'w') as f_49:\n",
    "    for sentence in make_chunk_object_list():\n",
    "        for idx_i, idx_j in combinations(Chunk.get_noun_clause_idx(sentence), 2):\n",
    "            path_i = [sentence[idx_i].replace_surface('X')]\n",
    "            dst_num = sentence[idx_i].dst\n",
    "            while dst_num != -1:\n",
    "                if dst_num == idx_j:\n",
    "                    path_i.append(sentence[dst_num].replace_surface('Y'))\n",
    "                    f_49.write(' -> '.join(path_i) + '\\n')\n",
    "                    break\n",
    "                else:\n",
    "                    path_i.append(sentence[dst_num].get_morph_surface())\n",
    "                    dst_num = sentence[dst_num].dst\n",
    "\n",
    "            path_j = [sentence[idx_j].replace_surface('Y')]\n",
    "            dst_num = sentence[idx_j].dst\n",
    "            while dst_num != -1:\n",
    "                path_j.append(sentence[dst_num].get_morph_surface())\n",
    "                if path_j[-1] in path_i:\n",
    "                    path_i_str = ' -> '.join(path_i[:path_i.index(path_j[-1])])\n",
    "                    path_j_str = ' -> '.join(path_j[:-1])\n",
    "                    f_49.write(' | '.join([path_i_str, path_j_str, path_j[-1]]) + '\\n')\n",
    "                    break    \n",
    "                dst_num = sentence[dst_num].dst"
   ]
  },
  {
   "cell_type": "code",
   "execution_count": 58,
   "metadata": {
    "scrolled": true
   },
   "outputs": [
    {
     "name": "stdout",
     "output_type": "stream",
     "text": [
      "Xは -> Yである\r\n",
      "Xで -> 生れたか | Yが | つかぬ\r\n",
      "Xでも -> 薄暗い -> Yで\r\n",
      "Xでも -> 薄暗い -> 所で | Y | 泣いて\r\n",
      "Xでも -> 薄暗い -> 所で -> 泣いて | Yだけは | 記憶している\r\n",
      "Xでも -> 薄暗い -> 所で -> 泣いて -> Yしている\r\n",
      "Xで | Y | 泣いて\r\n",
      "Xで -> 泣いて | Yだけは | 記憶している\r\n",
      "Xで -> 泣いて -> Yしている\r\n",
      "X -> 泣いて | Yだけは | 記憶している\r\n",
      "X -> 泣いて -> Yしている\r\n",
      "Xだけは -> Yしている\r\n",
      "Xは | Yで -> 始めて -> 人間という -> ものを | 見た\r\n",
      "Xは | Yという -> ものを | 見た\r\n",
      "Xは | Yを | 見た\r\n",
      "Xで -> 始めて -> Yという\r\n",
      "Xで -> 始めて -> 人間という -> Yを\r\n",
      "Xという -> Yを\r\n",
      "Xで -> 聞くと | Yは | 種族であったそうだ\r\n",
      "Xで -> 聞くと | Yという -> 人間中で | 種族であったそうだ\r\n",
      "Xで -> 聞くと | YYで | 種族であったそうだ\r\n",
      "Xで -> 聞くと | Y -> 獰悪な | 種族であったそうだ\r\n",
      "Xで -> 聞くと | Yな | 種族であったそうだ\r\n",
      "Xで -> 聞くと -> YであったYだ\r\n",
      "Xは | Yという -> 人間中で | 種族であったそうだ\r\n",
      "Xは | YYで | 種族であったそうだ\r\n",
      "Xは | Y -> 獰悪な | 種族であったそうだ\r\n",
      "Xは | Yな | 種族であったそうだ\r\n",
      "Xは -> YであったYだ\r\n",
      "Xという -> YYで\r\n",
      "Xという -> 人間中で | Y -> 獰悪な | 種族であったそうだ\r\n",
      "Xという -> 人間中で | Yな | 種族であったそうだ\r\n",
      "Xという -> 人間中で -> YであったYだ\r\n",
      "XXで | Y -> 獰悪な | 種族であったそうだ\r\n",
      "XXで | Yな | 種族であったそうだ\r\n",
      "XXで -> YであったYだ\r\n",
      "X -> Yな\r\n",
      "X -> 獰悪な -> YであったYだ\r\n",
      "Xな -> YであったYだ\r\n",
      "XというXは | Yを -> 捕えて -> 煮て -> 食うという | 話である\r\n",
      "XというXは -> Yである\r\n",
      "Xを -> 捕えて -> 煮て -> 食うという -> Yである\r\n",
      "Xは | Yという -> 考も | なかったから\r\n",
      "Xは | Yも | なかったから\r\n",
      "Xという -> Yも\r\n",
      "Xの -> Yに\r\n",
      "Xの -> 掌に -> 載せられて | Yと | 持ち上げられた\r\n",
      "Xの -> 掌に -> 載せられて -> 持ち上げられた -> Y\r\n",
      "Xの -> 掌に -> 載せられて -> 持ち上げられた -> 時 -> フワフワした -> Yが\r\n",
      "Xに -> 載せられて | Yと | 持ち上げられた\r\n"
     ]
    }
   ],
   "source": [
    "!head -50 work/49_result.txt"
   ]
  },
  {
   "cell_type": "code",
   "execution_count": null,
   "metadata": {
    "collapsed": true
   },
   "outputs": [],
   "source": []
  }
 ],
 "metadata": {
  "kernelspec": {
   "display_name": "Python 3",
   "language": "python",
   "name": "python3"
  },
  "language_info": {
   "codemirror_mode": {
    "name": "ipython",
    "version": 3
   },
   "file_extension": ".py",
   "mimetype": "text/x-python",
   "name": "python",
   "nbconvert_exporter": "python",
   "pygments_lexer": "ipython3",
   "version": "3.5.2"
  },
  "toc": {
   "nav_menu": {},
   "number_sections": true,
   "sideBar": false,
   "skip_h1_title": false,
   "toc_cell": true,
   "toc_position": {},
   "toc_section_display": "block",
   "toc_window_display": false
  }
 },
 "nbformat": 4,
 "nbformat_minor": 2
}
