{
 "cells": [
  {
   "cell_type": "markdown",
   "metadata": {
    "toc": "true"
   },
   "source": [
    " # Table of Contents\n",
    "<div class=\"toc\" style=\"margin-top: 1em;\"><ul class=\"toc-item\" id=\"toc-level0\"><li><span><a href=\"http://localhost:8888/notebooks/t-tagami/Chapter_6/Chapter_6.ipynb#第6章:-英語テキストの処理\" data-toc-modified-id=\"第6章:-英語テキストの処理-1\">第6章: 英語テキストの処理</a></span><ul class=\"toc-item\"><ul class=\"toc-item\"><li><span><a href=\"http://localhost:8888/notebooks/t-tagami/Chapter_6/Chapter_6.ipynb#50.-文区切り\" data-toc-modified-id=\"50.-文区切り-1.0.1\">50. 文区切り</a></span></li><li><span><a href=\"http://localhost:8888/notebooks/t-tagami/Chapter_6/Chapter_6.ipynb#51.-単語の切り出し\" data-toc-modified-id=\"51.-単語の切り出し-1.0.2\">51. 単語の切り出し</a></span></li><li><span><a href=\"http://localhost:8888/notebooks/t-tagami/Chapter_6/Chapter_6.ipynb#52.-ステミング\" data-toc-modified-id=\"52.-ステミング-1.0.3\">52. ステミング</a></span></li><li><span><a href=\"http://localhost:8888/notebooks/t-tagami/Chapter_6/Chapter_6.ipynb#53.-Tokenization\" data-toc-modified-id=\"53.-Tokenization-1.0.4\">53. Tokenization</a></span></li><li><span><a href=\"http://localhost:8888/notebooks/t-tagami/Chapter_6/Chapter_6.ipynb#54.-品詞タグ付け\" data-toc-modified-id=\"54.-品詞タグ付け-1.0.5\">54. 品詞タグ付け</a></span></li><li><span><a href=\"http://localhost:8888/notebooks/t-tagami/Chapter_6/Chapter_6.ipynb#55.-固有表現抽出\" data-toc-modified-id=\"55.-固有表現抽出-1.0.6\">55. 固有表現抽出</a></span></li><li><span><a href=\"http://localhost:8888/notebooks/t-tagami/Chapter_6/Chapter_6.ipynb#56.-共参照解析\" data-toc-modified-id=\"56.-共参照解析-1.0.7\">56. 共参照解析</a></span></li><li><span><a href=\"http://localhost:8888/notebooks/t-tagami/Chapter_6/Chapter_6.ipynb#57.-係り受け解析\" data-toc-modified-id=\"57.-係り受け解析-1.0.8\">57. 係り受け解析</a></span></li><li><span><a href=\"http://localhost:8888/notebooks/t-tagami/Chapter_6/Chapter_6.ipynb#58.-タプルの抽出\" data-toc-modified-id=\"58.-タプルの抽出-1.0.9\">58. タプルの抽出</a></span></li><li><span><a href=\"http://localhost:8888/notebooks/t-tagami/Chapter_6/Chapter_6.ipynb#59.-S式の解析\" data-toc-modified-id=\"59.-S式の解析-1.0.10\">59. S式の解析</a></span></li></ul></ul></li></ul></div>"
   ]
  },
  {
   "cell_type": "markdown",
   "metadata": {},
   "source": [
    "# 第6章: 英語テキストの処理\n",
    "英語のテキスト（nlp.txt）に対して，以下の処理を実行せよ．"
   ]
  },
  {
   "cell_type": "code",
   "execution_count": 9,
   "metadata": {
    "scrolled": true
   },
   "outputs": [
    {
     "name": "stdout",
     "output_type": "stream",
     "text": [
      "--2017-07-18 15:04:57--  http://www.cl.ecei.tohoku.ac.jp/nlp100/data/nlp.txt\n",
      "Resolving www.cl.ecei.tohoku.ac.jp... 130.34.192.83\n",
      "Connecting to www.cl.ecei.tohoku.ac.jp|130.34.192.83|:80... connected.\n",
      "HTTP request sent, awaiting response... 200 OK\n",
      "Length: 8594 (8.4K) [text/plain]\n",
      "Saving to: ‘data/nlp.txt’\n",
      "\n",
      "nlp.txt             100%[===================>]   8.39K  --.-KB/s    in 0.03s   \n",
      "\n",
      "2017-07-18 15:04:57 (257 KB/s) - ‘data/nlp.txt’ saved [8594/8594]\n",
      "\n"
     ]
    }
   ],
   "source": [
    "!wget http://www.cl.ecei.tohoku.ac.jp/nlp100/data/nlp.txt -P data"
   ]
  },
  {
   "cell_type": "code",
   "execution_count": 20,
   "metadata": {},
   "outputs": [
    {
     "name": "stdout",
     "output_type": "stream",
     "text": [
      "Natural language processing\n",
      "From Wikipedia, the free encyclopedia\n",
      "\n",
      "Natural language processing (NLP) is a field of computer science, artificial intelligence, and linguistics concerned with the interactions between computers and human (natural) languages. As such, NLP is related to the area of humani-computer interaction. Many challenges in NLP involve natural language understanding, that is, enabling computers to derive meaning from human or natural language input, and others involve natural language generation.\n",
      "\n",
      "History\n",
      "\n",
      "The history of NLP generally starts in the 1950s, although work can be found from earlier periods. In 1950, Alan Turing published an article titled \"Computing Machinery and Intelligence\" which proposed what is now called the Turing test as a criterion of intelligence.\n",
      "\n",
      "The Georgetown experiment in 1954 involved fully automatic translation of more than sixty Russian sentences into English. The authors claimed that within three or five years, machine translation would be a solved problem. However, real progress was much slower, and after the ALPAC report in 1966, which found that ten year long research had failed to fulfill the expectations, funding for machine translation was dramatically reduced. Little further research in machine translation was conducted until the late 1980s, when the first statistical machine translation systems were developed.\n",
      "      34\n"
     ]
    }
   ],
   "source": [
    "!head data/nlp.txt\n",
    "!cat data/nlp.txt | wc -l"
   ]
  },
  {
   "cell_type": "markdown",
   "metadata": {},
   "source": [
    "### 50. 文区切り\n",
    "(. or ; or : or ? or !) → 空白文字 → 英大文字というパターンを文の区切りと見なし，入力された文書を1行1文の形式で出力せよ"
   ]
  },
  {
   "cell_type": "code",
   "execution_count": null,
   "metadata": {},
   "outputs": [],
   "source": [
    "#行毎に読み込む関数 田さんver\n",
    "def readLine(fn):\n",
    "    with open () as f:\n",
    "        while True:\n",
    "            yield next(filr).rstrip('\\n')"
   ]
  },
  {
   "cell_type": "code",
   "execution_count": 242,
   "metadata": {},
   "outputs": [
    {
     "name": "stdout",
     "output_type": "stream",
     "text": [
      "Overwriting src/50.py\n"
     ]
    }
   ],
   "source": [
    "%%file src/50.py\n",
    "import re\n",
    "with open('data/nlp.txt') as f_r:\n",
    "    for line in f_r:\n",
    "        for sentence in re.split(r'(?<=[\\.;:?!])\\s(?=[A-Z])', line):\n",
    "            print(sentence.rstrip())"
   ]
  },
  {
   "cell_type": "code",
   "execution_count": 243,
   "metadata": {},
   "outputs": [],
   "source": [
    "!python src/50.py > work/50.txt"
   ]
  },
  {
   "cell_type": "code",
   "execution_count": 244,
   "metadata": {},
   "outputs": [
    {
     "name": "stdout",
     "output_type": "stream",
     "text": [
      "Natural language processing\r\n",
      "From Wikipedia, the free encyclopedia\r\n",
      "\r\n",
      "Natural language processing (NLP) is a field of computer science, artificial intelligence, and linguistics concerned with the interactions between computers and human (natural) languages.\r\n",
      "As such, NLP is related to the area of humani-computer interaction.\r\n",
      "Many challenges in NLP involve natural language understanding, that is, enabling computers to derive meaning from human or natural language input, and others involve natural language generation.\r\n",
      "\r\n",
      "History\r\n",
      "\r\n",
      "The history of NLP generally starts in the 1950s, although work can be found from earlier periods.\r\n"
     ]
    }
   ],
   "source": [
    "!head work/50.txt"
   ]
  },
  {
   "cell_type": "markdown",
   "metadata": {},
   "source": [
    "### 51. 単語の切り出し\n",
    "空白を単語の区切りとみなし，50の出力を入力として受け取り，1行1単語の形式で出力せよ．ただし，文の終端では空行を出力せよ．"
   ]
  },
  {
   "cell_type": "code",
   "execution_count": 119,
   "metadata": {},
   "outputs": [
    {
     "name": "stdout",
     "output_type": "stream",
     "text": [
      "Overwriting src/51.py\n"
     ]
    }
   ],
   "source": [
    "%%file src/51.py\n",
    "import sys\n",
    "for line in sys.stdin:\n",
    "    for word in line.split(' '):\n",
    "        print(word.strip(\",.:-()\\\"\\n\"))\n",
    "    print()"
   ]
  },
  {
   "cell_type": "code",
   "execution_count": 120,
   "metadata": {},
   "outputs": [],
   "source": [
    "!python src/51.py < work/50.txt > work/51.txt"
   ]
  },
  {
   "cell_type": "code",
   "execution_count": 123,
   "metadata": {},
   "outputs": [
    {
     "name": "stdout",
     "output_type": "stream",
     "text": [
      "Natural\r\n",
      "language\r\n",
      "processing\r\n",
      "\r\n",
      "From\r\n",
      "Wikipedia\r\n",
      "the\r\n",
      "free\r\n",
      "encyclopedia\r\n",
      "\r\n",
      "\r\n",
      "\r\n",
      "Natural\r\n",
      "language\r\n",
      "processing\r\n",
      "NLP\r\n",
      "is\r\n",
      "a\r\n",
      "field\r\n",
      "of\r\n",
      "computer\r\n",
      "science\r\n",
      "artificial\r\n",
      "intelligence\r\n",
      "and\r\n",
      "linguistics\r\n",
      "concerned\r\n",
      "with\r\n",
      "the\r\n",
      "interactions\r\n"
     ]
    }
   ],
   "source": [
    "!head -30 work/51.txt"
   ]
  },
  {
   "cell_type": "markdown",
   "metadata": {},
   "source": [
    "### 52. ステミング\n",
    "51の出力を入力として受け取り，Porterのステミングアルゴリズムを適用し，単語と語幹をタブ区切り形式で出力せよ． Pythonでは，Porterのステミングアルゴリズムの実装としてstemmingモジュールを利用するとよい．"
   ]
  },
  {
   "cell_type": "code",
   "execution_count": 125,
   "metadata": {
    "scrolled": false
   },
   "outputs": [
    {
     "name": "stdout",
     "output_type": "stream",
     "text": [
      "Requirement already satisfied: stemming in /Users/tagami/.pyenv/versions/3.5.2/lib/python3.5/site-packages\r\n"
     ]
    }
   ],
   "source": [
    "!pip install stemming"
   ]
  },
  {
   "cell_type": "code",
   "execution_count": 1,
   "metadata": {},
   "outputs": [],
   "source": [
    "#田さんはstemmingにnltkを使っている"
   ]
  },
  {
   "cell_type": "code",
   "execution_count": 140,
   "metadata": {},
   "outputs": [
    {
     "name": "stdout",
     "output_type": "stream",
     "text": [
      "Overwriting src/52.py\n"
     ]
    }
   ],
   "source": [
    "%%file src/52.py\n",
    "import sys\n",
    "from stemming.porter2 import stem\n",
    "for word in sys.stdin:\n",
    "    print('{}\\t{}'.format(word.rstrip(), stem(word.rstrip())))"
   ]
  },
  {
   "cell_type": "code",
   "execution_count": 141,
   "metadata": {},
   "outputs": [],
   "source": [
    "!python src/52.py < work/51.txt > work/52.txt"
   ]
  },
  {
   "cell_type": "code",
   "execution_count": 142,
   "metadata": {
    "scrolled": true
   },
   "outputs": [
    {
     "name": "stdout",
     "output_type": "stream",
     "text": [
      "Natural\tNatur\r\n",
      "language\tlanguag\r\n",
      "processing\tprocess\r\n",
      "\t\r\n",
      "From\tFrom\r\n",
      "Wikipedia\tWikipedia\r\n",
      "the\tthe\r\n",
      "free\tfree\r\n",
      "encyclopedia\tencyclopedia\r\n",
      "\t\r\n",
      "\t\r\n",
      "\t\r\n",
      "Natural\tNatur\r\n",
      "language\tlanguag\r\n",
      "processing\tprocess\r\n",
      "NLP\tNLP\r\n",
      "is\tis\r\n",
      "a\ta\r\n",
      "field\tfield\r\n",
      "of\tof\r\n"
     ]
    }
   ],
   "source": [
    "!head -20 work/52.txt"
   ]
  },
  {
   "cell_type": "markdown",
   "metadata": {},
   "source": [
    "### 53. Tokenization\n",
    "Stanford Core NLPを用い，入力テキストの解析結果をXML形式で得よ．また，このXMLファイルを読み込み，入力テキストを1行1単語の形式で出力せよ．"
   ]
  },
  {
   "cell_type": "markdown",
   "metadata": {},
   "source": [
    "stanford core nlpはそのままではまずうまくいかない\n",
    "プロパティファイルをいじくろう(Props.properties)\n",
    "少し前のcore NLPだと()を処理しようとすると落ちる\n",
    "javaはプログラムのガベコレが働いている.javaのガベコレは使うメモリ領域をいろんなブロックに分けていて使わなそうなデータを優先度の低いブロックに移す.\n",
    "* annotators どんな処理をしたいかのリスト\n",
    "* outputExtesnsion = .xml 出力ファイルの仕様を指定\n",
    "* tokenize.whitespace = true \n",
    "* ssplit.eolonly = true 文末でしか区切らないようにする"
   ]
  },
  {
   "cell_type": "code",
   "execution_count": 11,
   "metadata": {},
   "outputs": [
    {
     "name": "stdout",
     "output_type": "stream",
     "text": [
      "Requirement already satisfied: corenlp-python in /Users/tagami/.pyenv/versions/3.5.2/lib/python3.5/site-packages\n",
      "Requirement already satisfied: pexpect>=2.4 in /Users/tagami/.pyenv/versions/3.5.2/lib/python3.5/site-packages (from corenlp-python)\n",
      "Requirement already satisfied: xmltodict>=0.4.6 in /Users/tagami/.pyenv/versions/3.5.2/lib/python3.5/site-packages (from corenlp-python)\n",
      "Requirement already satisfied: ptyprocess>=0.5 in /Users/tagami/.pyenv/versions/3.5.2/lib/python3.5/site-packages (from pexpect>=2.4->corenlp-python)\n"
     ]
    }
   ],
   "source": [
    "!pip install corenlp-python"
   ]
  },
  {
   "cell_type": "code",
   "execution_count": 145,
   "metadata": {},
   "outputs": [
    {
     "name": "stdout",
     "output_type": "stream",
     "text": [
      "[main] INFO edu.stanford.nlp.pipeline.StanfordCoreNLP - Adding annotator tokenize\n",
      "[main] INFO edu.stanford.nlp.pipeline.TokenizerAnnotator - No tokenizer type provided. Defaulting to PTBTokenizer.\n",
      "[main] INFO edu.stanford.nlp.pipeline.StanfordCoreNLP - Adding annotator ssplit\n",
      "[main] INFO edu.stanford.nlp.pipeline.StanfordCoreNLP - Adding annotator pos\n",
      "[main] INFO edu.stanford.nlp.tagger.maxent.MaxentTagger - Loading POS tagger from edu/stanford/nlp/models/pos-tagger/english-left3words/english-left3words-distsim.tagger ... done [2.0 sec].\n",
      "[main] INFO edu.stanford.nlp.pipeline.StanfordCoreNLP - Adding annotator lemma\n",
      "[main] INFO edu.stanford.nlp.pipeline.StanfordCoreNLP - Adding annotator ner\n",
      "[main] INFO edu.stanford.nlp.ie.AbstractSequenceClassifier - Loading classifier from edu/stanford/nlp/models/ner/english.all.3class.distsim.crf.ser.gz ... done [2.7 sec].\n",
      "[main] INFO edu.stanford.nlp.ie.AbstractSequenceClassifier - Loading classifier from edu/stanford/nlp/models/ner/english.muc.7class.distsim.crf.ser.gz ... done [2.9 sec].\n",
      "[main] INFO edu.stanford.nlp.ie.AbstractSequenceClassifier - Loading classifier from edu/stanford/nlp/models/ner/english.conll.4class.distsim.crf.ser.gz ... done [1.5 sec].\n",
      "[main] INFO edu.stanford.nlp.time.JollyDayHolidays - Initializing JollyDayHoliday for SUTime from classpath edu/stanford/nlp/models/sutime/jollyday/Holidays_sutime.xml as sutime.binder.1.\n",
      "[main] INFO edu.stanford.nlp.pipeline.StanfordCoreNLP - Adding annotator parse\n",
      "[main] INFO edu.stanford.nlp.parser.common.ParserGrammar - Loading parser from serialized file edu/stanford/nlp/models/lexparser/englishPCFG.ser.gz ... done [2.9 sec].\n",
      "[main] INFO edu.stanford.nlp.pipeline.StanfordCoreNLP - Adding annotator dcoref\n",
      "\n",
      "Processing file /Users/tagami/100knock-2017/t-tagami/Chapter_6/data/nlp.txt ... writing to /Users/tagami/100knock-2017/t-tagami/Chapter_6/nlp.txt.xml\n",
      "Annotating file /Users/tagami/100knock-2017/t-tagami/Chapter_6/data/nlp.txt ... done [26.4 sec].\n",
      "\n",
      "Annotation pipeline timing information:\n",
      "TokenizerAnnotator: 0.1 sec.\n",
      "WordsToSentencesAnnotator: 0.0 sec.\n",
      "POSTaggerAnnotator: 0.3 sec.\n",
      "MorphaAnnotator: 0.1 sec.\n",
      "NERCombinerAnnotator: 5.5 sec.\n",
      "ParserAnnotator: 16.9 sec.\n",
      "DeterministicCorefAnnotator: 3.5 sec.\n",
      "TOTAL: 26.4 sec. for 1452 tokens at 55.0 tokens/sec.\n",
      "Pipeline setup: 15.2 sec.\n",
      "Total time for StanfordCoreNLP pipeline: 41.9 sec.\n"
     ]
    }
   ],
   "source": [
    "#ここで2時間ほどロス リファレンス読むのは大事ってはっきりわかんだね\n",
    "!java -cp \"/Users/tagami/Documents/python/stanford-corenlp-full-2017-06-09/*\" -Xmx2g edu.stanford.nlp.pipeline.StanfordCoreNLP -annotators tokenize,ssplit,pos,lemma,ner,parse,dcoref -file data/nlp.txt work"
   ]
  },
  {
   "cell_type": "code",
   "execution_count": 233,
   "metadata": {},
   "outputs": [
    {
     "name": "stdout",
     "output_type": "stream",
     "text": [
      "<?xml version=\"1.0\" encoding=\"UTF-8\"?>\r",
      "\r\n",
      "<?xml-stylesheet href=\"CoreNLP-to-HTML.xsl\" type=\"text/xsl\"?>\r",
      "\r\n",
      "<root>\r",
      "\r\n",
      "  <document>\r",
      "\r\n",
      "    <sentences>\r",
      "\r\n",
      "      <sentence id=\"1\">\r",
      "\r\n",
      "        <tokens>\r",
      "\r\n",
      "          <token id=\"1\">\r",
      "\r\n",
      "            <word>Natural</word>\r",
      "\r\n",
      "            <lemma>natural</lemma>\r",
      "\r\n",
      "            <CharacterOffsetBegin>0</CharacterOffsetBegin>\r",
      "\r\n",
      "            <CharacterOffsetEnd>7</CharacterOffsetEnd>\r",
      "\r\n",
      "            <POS>JJ</POS>\r",
      "\r\n",
      "            <NER>O</NER>\r",
      "\r\n",
      "            <Speaker>PER0</Speaker>\r",
      "\r\n",
      "          </token>\r",
      "\r\n",
      "          <token id=\"2\">\r",
      "\r\n",
      "            <word>language</word>\r",
      "\r\n",
      "            <lemma>language</lemma>\r",
      "\r\n",
      "            <CharacterOffsetBegin>8</CharacterOffsetBegin>\r",
      "\r\n"
     ]
    }
   ],
   "source": [
    "!head -20 work/nlp.txt.xml"
   ]
  },
  {
   "cell_type": "code",
   "execution_count": 219,
   "metadata": {},
   "outputs": [
    {
     "name": "stdout",
     "output_type": "stream",
     "text": [
      "Overwriting src/53.py\n"
     ]
    }
   ],
   "source": [
    "%%file src/53.py\n",
    "#XPathチートシート xpath -> XMLから必要な箇所を探索・抽出する為に用いられる言語\n",
    "#http://aoproj.web.fc2.com/xpath/XPath_cheatsheets_v2.pdf\n",
    "import sys\n",
    "from lxml import etree\n",
    "tree = etree.parse(sys.stdin) #文書全体を読み取ってメモリー内ツリーを作成\n",
    "for word in tree.xpath('//word'):\n",
    "    print(word.text)"
   ]
  },
  {
   "cell_type": "code",
   "execution_count": 220,
   "metadata": {},
   "outputs": [],
   "source": [
    "!python src/53.py < work/nlp.txt.xml > work/53.txt"
   ]
  },
  {
   "cell_type": "code",
   "execution_count": 221,
   "metadata": {},
   "outputs": [
    {
     "name": "stdout",
     "output_type": "stream",
     "text": [
      "Natural\r\n",
      "language\r\n",
      "processing\r\n",
      "From\r\n",
      "Wikipedia\r\n",
      ",\r\n",
      "the\r\n",
      "free\r\n",
      "encyclopedia\r\n",
      "Natural\r\n",
      "language\r\n",
      "processing\r\n",
      "-LRB-\r\n",
      "NLP\r\n",
      "-RRB-\r\n",
      "is\r\n",
      "a\r\n",
      "field\r\n",
      "of\r\n",
      "computer\r\n"
     ]
    }
   ],
   "source": [
    "!head -20 work/53.txt"
   ]
  },
  {
   "cell_type": "markdown",
   "metadata": {},
   "source": [
    "### 54. 品詞タグ付け\n",
    "Stanford Core NLPの解析結果XMLを読み込み，単語，レンマ，品詞をタブ区切り形式で出力せよ．"
   ]
  },
  {
   "cell_type": "code",
   "execution_count": 222,
   "metadata": {},
   "outputs": [
    {
     "name": "stdout",
     "output_type": "stream",
     "text": [
      "Overwriting src/54.py\n"
     ]
    }
   ],
   "source": [
    "%%file src/54.py\n",
    "import sys\n",
    "from lxml import etree\n",
    "tree = etree.parse(sys.stdin)\n",
    "for token in tree.xpath('//token'):\n",
    "    print('{}\\t{}\\t{}'.format(token.find('word').text, token.find('lemma').text, token.find('POS').text))"
   ]
  },
  {
   "cell_type": "code",
   "execution_count": 223,
   "metadata": {},
   "outputs": [],
   "source": [
    "!python src/54.py < work/nlp.txt.xml > work/54.txt"
   ]
  },
  {
   "cell_type": "code",
   "execution_count": 224,
   "metadata": {},
   "outputs": [
    {
     "name": "stdout",
     "output_type": "stream",
     "text": [
      "Natural\tnatural\tJJ\r\n",
      "language\tlanguage\tNN\r\n",
      "processing\tprocessing\tNN\r\n",
      "From\tfrom\tIN\r\n",
      "Wikipedia\tWikipedia\tNNP\r\n",
      ",\t,\t,\r\n",
      "the\tthe\tDT\r\n",
      "free\tfree\tJJ\r\n",
      "encyclopedia\tencyclopedia\tNN\r\n",
      "Natural\tnatural\tJJ\r\n"
     ]
    }
   ],
   "source": [
    "!head work/54.txt"
   ]
  },
  {
   "cell_type": "markdown",
   "metadata": {},
   "source": [
    "### 55. 固有表現抽出\n",
    "入力文中の人名をすべて抜き出せ．"
   ]
  },
  {
   "cell_type": "code",
   "execution_count": 237,
   "metadata": {},
   "outputs": [
    {
     "name": "stdout",
     "output_type": "stream",
     "text": [
      "Overwriting src/55.py\n"
     ]
    }
   ],
   "source": [
    "%%file src/55.py\n",
    "import sys\n",
    "from lxml import etree\n",
    "tree = etree.parse(sys.stdin)\n",
    "for token in tree.xpath('//token'):\n",
    "    if token.find('NER').text == 'PERSON':\n",
    "        print(token.find('word').text)"
   ]
  },
  {
   "cell_type": "code",
   "execution_count": 238,
   "metadata": {},
   "outputs": [],
   "source": [
    "!python src/55.py < work/nlp.txt.xml > work/55.txt"
   ]
  },
  {
   "cell_type": "code",
   "execution_count": 239,
   "metadata": {},
   "outputs": [
    {
     "name": "stdout",
     "output_type": "stream",
     "text": [
      "Alan\r\n",
      "Turing\r\n",
      "Joseph\r\n",
      "Weizenbaum\r\n",
      "MARGIE\r\n",
      "Schank\r\n",
      "Wilensky\r\n",
      "Meehan\r\n",
      "Lehnert\r\n",
      "Carbonell\r\n"
     ]
    }
   ],
   "source": [
    "!head work/55.txt"
   ]
  },
  {
   "cell_type": "markdown",
   "metadata": {},
   "source": [
    "### 56. 共参照解析\n",
    "Stanford Core NLPの共参照解析の結果に基づき，文中の参照表現（mention）を代表参照表現（representative mention）に置換せよ．ただし，置換するときは，「代表参照表現（参照表現）」のように，元の参照表現が分かるように配慮せよ．"
   ]
  },
  {
   "cell_type": "code",
   "execution_count": 227,
   "metadata": {},
   "outputs": [
    {
     "name": "stdout",
     "output_type": "stream",
     "text": [
      "Overwriting src/56.py\n"
     ]
    }
   ],
   "source": [
    "%%file src/56.py\n",
    "import sys, re\n",
    "from lxml import etree\n",
    "tree = etree.parse(sys.stdin)\n",
    "coreferences = []\n",
    "for coreference in tree.xpath('//coreference/coreference'):\n",
    "    rep_sent = coreference.xpath('./mention[@representative=\"true\"]/text')[0].text\n",
    "    for mention in coreference.xpath('./mention[not(@representative)]'):\n",
    "        coreferences.append({'sent_idx': int(mention.find('sentence').text),\n",
    "                                'start_idx': int(mention.find('start').text)-1,\n",
    "                                'end_idx': int(mention.find('end').text)-1,\n",
    "                                'core_sent': mention.find('text').text,\n",
    "                                'rep_sent': rep_sent})\n",
    "\n",
    "for sent_idx, sentence in enumerate(tree.xpath('//sentences/sentence/tokens'), 1):\n",
    "    sent = [token.find('word').text for token in sentence]\n",
    "    replace_list = [[core['start_idx'], core['end_idx'], '｢{}｣({})'.format(core['rep_sent'],core['core_sent'])]\n",
    "                    for core in coreferences if sent_idx == core['sent_idx']]\n",
    "    for replace in sorted(replace_list, key=lambda x:x[0], reverse=True):\n",
    "        del sent[replace[0]:replace[1]]\n",
    "        sent.insert(replace[0], replace[2])\n",
    "    print(' '.join(sent))\n",
    "\n",
    "#35文目のyourとyour headとか24文目を置換する部分は目を瞑ろう"
   ]
  },
  {
   "cell_type": "code",
   "execution_count": 228,
   "metadata": {
    "scrolled": false
   },
   "outputs": [],
   "source": [
    "!python src/56.py < work/nlp.txt.xml > work/56.txt"
   ]
  },
  {
   "cell_type": "code",
   "execution_count": 229,
   "metadata": {},
   "outputs": [
    {
     "name": "stdout",
     "output_type": "stream",
     "text": [
      "Natural language processing From Wikipedia , the free encyclopedia Natural language processing -LRB- NLP -RRB- is ｢the free encyclopedia Natural language processing -LRB- NLP -RRB-｣(a field of computer science) , artificial intelligence , and linguistics concerned with the interactions between computers and human -LRB- natural -RRB- languages .\r\n",
      "As such , NLP is related to the area of humani-computer interaction .\r\n",
      "Many challenges in NLP involve natural language understanding , that is , enabling ｢computers｣(computers) to derive meaning from human or natural language input , and others involve natural language generation .\r\n",
      "History The history of NLP generally starts in the 1950s , although work can be found from earlier periods .\r\n",
      "In 1950 , Alan Turing published an article titled `` Computing Machinery and Intelligence '' which proposed what is now called the ｢Alan Turing｣(Turing) test as a criterion of intelligence .\r\n",
      "The Georgetown experiment in 1954 involved fully automatic translation of more than sixty Russian sentences into English .\r\n",
      "The authors claimed that within three or five years , ｢a solved problem｣(machine translation) would be a solved problem .\r\n",
      "However , real progress was much slower , and after the ALPAC report in 1966 , which found that ten year long research had failed to fulfill the expectations , funding for machine translation was dramatically reduced .\r\n",
      "Little further research in ｢a solved problem｣(machine translation) was conducted until the late 1980s , when the first statistical machine translation systems were developed .\r\n",
      "Some notably successful NLP systems developed in the 1960s were SHRDLU , ｢SHRDLU｣(a natural language system working in restricted `` blocks worlds '' with restricted vocabularies) , and ELIZA , a simulation of a Rogerian psychotherapist , written by Joseph Weizenbaum between 1964 to 1966 .\r\n"
     ]
    }
   ],
   "source": [
    "!head work/56.txt"
   ]
  },
  {
   "cell_type": "markdown",
   "metadata": {},
   "source": [
    "置換されてないとだめリスト"
   ]
  },
  {
   "cell_type": "code",
   "execution_count": 201,
   "metadata": {},
   "outputs": [
    {
     "name": "stdout",
     "output_type": "stream",
     "text": [
      "1 [16, 21, '｢the free encyclopedia Natural language processing -LRB- NLP -RRB-｣(a field of computer science)']\r\n",
      "3 [13, 14, '｢computers｣(computers)']\r\n",
      "5 [22, 23, '｢Alan Turing｣(Turing)']\r\n",
      "7 [10, 12, '｢a solved problem｣(machine translation)']\r\n",
      "9 [4, 6, '｢a solved problem｣(machine translation)']\r\n",
      "10 [12, 26, \"｢SHRDLU｣(a natural language system working in restricted `` blocks worlds '' with restricted vocabularies)\"]\r\n",
      "12 [35, 36, '｢you｣(your)']\r\n",
      "12 [35, 37, '｢My head｣(your head)']\r\n",
      "12 [25, 26, \"｢the `` patient ''｣(My)\"]\r\n",
      "12 [12, 13, '｢ELIZA｣(ELIZA)']\r\n",
      "15 [48, 50, '｢Lehnert｣(Lehnert 1981)']\r\n",
      "15 [20, 21, '｢1978｣(1978)']\r\n",
      "17 [6, 7, '｢NLP｣(NLP)']\r\n",
      "17 [2, 4, '｢the late 1980s｣(the 1980s)']\r\n",
      "18 [22, 24, '｢the free encyclopedia Natural language processing -LRB- NLP -RRB-｣(language processing)']\r\n",
      "18 [2, 5, '｢the late 1980s｣(the late 1980s)']\r\n",
      "19 [49, 51, '｢the free encyclopedia Natural language processing -LRB- NLP -RRB-｣(language processing)']\r\n",
      "20 [6, 7, '｢machine learning algorithms for language processing｣(algorithms)']\r\n",
      "21 [23, 45, '｢statistical models｣(statistical models , which make soft , probabilistic decisions based on attaching real-valued weights to the features making up the input data)']\r\n",
      "21 [14, 15, '｢NLP｣(NLP)']\r\n",
      "22 [13, 18, '｢The cache language models upon which many speech recognition systems now rely｣(examples of such statistical models)']\r\n",
      "23 [12, 25, '｢as input｣(input that contains errors -LRB- as is very common for real-world data -RRB-)']\r\n",
      "24 [11, 13, '｢a solved problem｣(machine translation)']\r\n",
      "24 [11, 30, '｢a solved problem｣(machine translation , due especially to work at IBM Research , where successively more complicated statistical models were developed)']\r\n",
      "25 [6, 48, '｢the advantage｣(advantage of existing multilingual textual corpora that had been produced by the Parliament of Canada and the European Union as a result of laws calling for the translation of all governmental proceedings into all official languages of the corresponding systems of government)']\r\n",
      "25 [0, 2, '｢many speech recognition systems｣(These systems)']\r\n",
      "26 [34, 36, '｢many speech recognition systems｣(these systems)']\r\n",
      "26 [15, 17, '｢many speech recognition systems｣(these systems)']\r\n",
      "29 [7, 17, '｢data｣(data that has not been hand-annotated with the desired answers)']\r\n",
      "32 [10, 17, '｢machine learning｣(machine learning , especially statistical machine learning)']\r\n",
      "33 [14, 16, '｢the free encyclopedia Natural language processing -LRB- NLP -RRB-｣(language processing)']\r\n",
      "33 [3, 5, '｢machine learning｣(machine learning)']\r\n",
      "34 [15, 16, '｢hard if-then rules similar to existing hand-written rules｣(rules)']\r\n",
      "36 [10, 32, \"｢A corpus -LRB- plural , `` corpora '' -RRB-｣(a set of documents -LRB- or sometimes , individual sentences -RRB- that have been hand-annotated with the correct values to be learned)\"]\r\n",
      "36 [5, 8, \"｢existing multilingual textual corpora that had been produced by the Parliament of Canada and the European Union as a result of laws calling for the translation of all governmental proceedings into all official languages of the corresponding systems of government｣(`` corpora '')\"]\r\n",
      "37 [4, 7, '｢machine learning Modern NLP algorithms｣(machine learning algorithms)']\r\n",
      "38 [16, 19, '｢the input data｣(the input data)']\r\n",
      "38 [0, 2, '｢machine learning Modern NLP algorithms｣(These algorithms)']\r\n",
      "39 [22, 24, '｢hand-written rules｣(hand-written rules)']\r\n",
      "39 [8, 10, '｢decision trees｣(decision trees)']\r\n",
      "40 [20, 22, '｢real-valued weights｣(real-valued weights)']\r\n",
      "40 [13, 17, '｢soft , probabilistic decisions｣(soft , probabilistic decisions)']\r\n",
      "40 [8, 10, '｢statistical models｣(statistical models)']\r\n",
      "40 [8, 26, '｢statistical models｣(statistical models , which make soft , probabilistic decisions based on attaching real-valued weights to each input feature)']\r\n",
      "41 [6, 7, '｢Some of the earliest-used algorithms , such as decision trees｣(they)']\r\n",
      "42 [30, 31, '｢hard if-then rules similar to existing hand-written rules｣(rules)']\r\n",
      "42 [17, 19, '｢machine learning｣(machine learning)']\r\n",
      "43 [2, 3, '｢The learning procedures used during machine learning｣(procedures)']\r\n",
      "44 [17, 19, '｢hand-written rules｣(hand-written rules)']\r\n",
      "44 [7, 9, '｢hand-written rules｣(hand-written rules)']\r\n",
      "46 [18, 20, '｢the rules｣(the rules)']\r\n",
      "46 [18, 28, '｢the rules｣(the rules , which is a much more difficult task)']\r\n",
      "46 [5, 7, '｢hand-written rules｣(hand-written rules)']\r\n",
      "46 [2, 7, '｢the systems｣(systems based on hand-written rules)']\r\n",
      "48 [8, 10, '｢Systems based on machine-learning algorithms｣(machine-learning systems)']\r\n",
      "49 [18, 19, '｢Natural Language Learning -LRB- NLL -RRB-｣(its)']\r\n"
     ]
    }
   ],
   "source": [
    "!python src/56_.py < work/nlp.txt.xml"
   ]
  },
  {
   "cell_type": "markdown",
   "metadata": {},
   "source": [
    "### 57. 係り受け解析\n",
    "Stanford Core NLPの係り受け解析の結果（collapsed-dependencies）を有向グラフとして可視化せよ．可視化には，係り受け木をDOT言語に変換し，Graphvizを用いるとよい．また，Pythonから有向グラフを直接的に可視化するには，pydotを使うとよい．"
   ]
  },
  {
   "cell_type": "markdown",
   "metadata": {},
   "source": [
    "テキストが同じ時に同じノードにならないようにインデックスをつける\n",
    "LRBとRRBを使うのはカッコを区別するため"
   ]
  },
  {
   "cell_type": "code",
   "execution_count": 30,
   "metadata": {},
   "outputs": [
    {
     "name": "stdout",
     "output_type": "stream",
     "text": [
      "Overwriting src/57.py\n"
     ]
    }
   ],
   "source": [
    "%%file src/57.py\n",
    "import sys, re\n",
    "from lxml import etree\n",
    "from graphviz import Digraph\n",
    "\n",
    "def get_dependency_tree(input_num):\n",
    "    tree = etree.parse(sys.stdin)\n",
    "    dependencies = tree.xpath('//dependencies[@type=\"collapsed-dependencies\"]')\n",
    "    for num, dependency in enumerate(dependencies):\n",
    "        if num == input_num:\n",
    "            dep_list = [[dep.find('governor').text, dep.find('dependent').text] \n",
    "                        for dep in dependency.xpath('.//dep') ]\n",
    "            G = Digraph(format = 'png')\n",
    "            G.attr('node', shape='cylinder')\n",
    "            for dep in dep_list:\n",
    "                G.edge(dep[0], dep[1])\n",
    "            G.render('work/tree')\n",
    "\n",
    "get_dependency_tree(7)"
   ]
  },
  {
   "cell_type": "code",
   "execution_count": 31,
   "metadata": {
    "scrolled": false
   },
   "outputs": [],
   "source": [
    "!python src/57.py < work/nlp.txt.xml"
   ]
  },
  {
   "cell_type": "code",
   "execution_count": 32,
   "metadata": {},
   "outputs": [
    {
     "data": {
      "image/png": "[encoded data removed]"
     },
     "metadata": {},
     "output_type": "display_data"
    }
   ],
   "source": [
    "#カオス\n",
    "from IPython.display import Image, display_png\n",
    "display_png(Image('work/tree.png'))"
   ]
  },
  {
   "cell_type": "markdown",
   "metadata": {},
   "source": [
    "### 58. タプルの抽出\n",
    "Stanford Core NLPの係り受け解析の結果（collapsed-dependencies）に基づき，「主語 述語 目的語」の組をタブ区切り形式で出力せよ．ただし，主語，述語，目的語の定義は以下を参考にせよ．\n",
    "\n",
    "述語: nsubj関係とdobj関係の子（dependant）を持つ単語  \n",
    "主語: 述語からnsubj関係にある子（dependent）  \n",
    "目的語: 述語からdobj関係にある子（dependent）"
   ]
  },
  {
   "cell_type": "code",
   "execution_count": 18,
   "metadata": {},
   "outputs": [
    {
     "name": "stdout",
     "output_type": "stream",
     "text": [
      "Overwriting src/58.py\n"
     ]
    }
   ],
   "source": [
    "%%file src/58.py\n",
    "import sys, re\n",
    "from lxml import etree\n",
    "\n",
    "tree = etree.parse(sys.stdin)\n",
    "for dependency in tree.xpath('//dependencies[@type=\"collapsed-dependencies\"]'):\n",
    "    #文中のnsubjを探す\n",
    "    nsubjs = dependency.xpath(\"dep[@type='nsubj']\") \n",
    "    for nsubj in nsubjs:\n",
    "        governor_idx = nsubj.find('governor').attrib['idx']\n",
    "        governor_text = nsubj.find('governor').text #述語\n",
    "        dependent_text = nsubj.find('dependent').text #主語\n",
    "        #目的語探しの旅\n",
    "        for dobj in dependency.xpath('dep[@type=\"dobj\"][governor[@idx=\"{}\"]]'.format(governor_idx)):\n",
    "            print('{}\\t{}\\t{}'.format(dependent_text, governor_text, dobj.find('dependent').text))"
   ]
  },
  {
   "cell_type": "code",
   "execution_count": 19,
   "metadata": {},
   "outputs": [
    {
     "name": "stdout",
     "output_type": "stream",
     "text": [
      "understanding\tenabling\tcomputers\r\n",
      "others\tinvolve\tgeneration\r\n",
      "Turing\tpublished\tarticle\r\n",
      "experiment\tinvolved\ttranslation\r\n",
      "ELIZA\tprovided\tinteraction\r\n",
      "patient\texceeded\tbase\r\n",
      "ELIZA\tprovide\tresponse\r\n",
      "which\tstructured\tinformation\r\n",
      "underpinnings\tdiscouraged\tsort\r\n",
      "that\tunderlies\tapproach\r\n",
      "Some\tproduced\tsystems\r\n",
      "which\tmake\tdecisions\r\n",
      "systems\trely\twhich\r\n",
      "that\tcontains\terrors\r\n",
      "implementations\tinvolved\tcoding\r\n",
      "algorithms\ttake\tset\r\n",
      "Some\tproduced\tsystems\r\n",
      "which\tmake\tdecisions\r\n",
      "models\thave\tadvantage\r\n",
      "they\texpress\tcertainty\r\n",
      "Systems\thave\tadvantages\r\n",
      "Automatic\tmake\tuse\r\n",
      "that\tmake\tdecisions\r\n"
     ]
    }
   ],
   "source": [
    "!python src/58.py < work/nlp.txt.xml"
   ]
  },
  {
   "cell_type": "markdown",
   "metadata": {},
   "source": [
    "### 59. S式の解析\n",
    "Stanford Core NLPの句構造解析の結果（S式）を読み込み，文中のすべての名詞句（NP）を表示せよ．入れ子になっている名詞句もすべて表示すること．"
   ]
  },
  {
   "cell_type": "markdown",
   "metadata": {},
   "source": [
    "**車輪の再発明はやめよう**  \n",
    "http://www.nltk.org/_modules/nltk/tree.html  \n",
    "かっこを読み飛ばしたい時に正規表現だけでやるのは無理  \n",
    "かっこの数を数える変数が必要"
   ]
  },
  {
   "cell_type": "code",
   "execution_count": 33,
   "metadata": {},
   "outputs": [
    {
     "name": "stdout",
     "output_type": "stream",
     "text": [
      "Overwriting src/59.py\n"
     ]
    }
   ],
   "source": [
    "%%file src/59.py\n",
    "import sys, re\n",
    "from lxml import etree\n",
    "from nltk.tree import Tree\n",
    "\n",
    "tree = etree.parse(sys.stdin)\n",
    "for parse in tree.xpath('//parse'):\n",
    "    for subtree in Tree.fromstring(parse.text).subtrees():\n",
    "            if subtree.label() == 'NP': print(' '.join(subtree.leaves()))"
   ]
  },
  {
   "cell_type": "code",
   "execution_count": 34,
   "metadata": {},
   "outputs": [],
   "source": [
    "!python src/59.py < work/nlp.txt.xml > work/59.txt"
   ]
  },
  {
   "cell_type": "code",
   "execution_count": 35,
   "metadata": {},
   "outputs": [
    {
     "name": "stdout",
     "output_type": "stream",
     "text": [
      "Natural language processing\r\n",
      "Wikipedia\r\n",
      "the free encyclopedia Natural language processing -LRB- NLP -RRB-\r\n",
      "the free encyclopedia Natural language processing\r\n",
      "NLP\r\n",
      "a field of computer science , artificial intelligence , and linguistics concerned with the interactions between computers and human -LRB- natural -RRB- languages\r\n",
      "a field of computer science\r\n",
      "a field\r\n",
      "computer science\r\n",
      "artificial intelligence\r\n"
     ]
    }
   ],
   "source": [
    "!head work/59.txt"
   ]
  },
  {
   "cell_type": "code",
   "execution_count": null,
   "metadata": {},
   "outputs": [],
   "source": []
  }
 ],
 "metadata": {
  "kernelspec": {
   "display_name": "Python 3",
   "language": "python",
   "name": "python3"
  },
  "language_info": {
   "codemirror_mode": {
    "name": "ipython",
    "version": 3
   },
   "file_extension": ".py",
   "mimetype": "text/x-python",
   "name": "python",
   "nbconvert_exporter": "python",
   "pygments_lexer": "ipython3",
   "version": "3.5.2"
  },
  "toc": {
   "nav_menu": {},
   "number_sections": false,
   "sideBar": true,
   "skip_h1_title": false,
   "toc_cell": true,
   "toc_position": {
    "height": "734px",
    "left": "0px",
    "right": "1010px",
    "top": "44px",
    "width": "247px"
   },
   "toc_section_display": "block",
   "toc_window_display": true
  }
 },
 "nbformat": 4,
 "nbformat_minor": 2
}
