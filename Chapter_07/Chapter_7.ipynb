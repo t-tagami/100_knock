{
 "cells": [
  {
   "cell_type": "markdown",
   "metadata": {
    "toc": "true"
   },
   "source": [
    " # Table of Contents\n",
    "<div class=\"toc\" style=\"margin-top: 1em;\"><ul class=\"toc-item\" id=\"toc-level0\"><li><span><a href=\"http://localhost:8889/notebooks/t-tagami/Chapter_7/Chapter_7.ipynb#第7章:-データベース\" data-toc-modified-id=\"第7章:-データベース-1\"><span class=\"toc-item-num\">1&nbsp;&nbsp;</span>第7章: データベース</a></span><ul class=\"toc-item\"><li><span><a href=\"http://localhost:8889/notebooks/t-tagami/Chapter_7/Chapter_7.ipynb#60.-KVSの構築\" data-toc-modified-id=\"60.-KVSの構築-1.1\"><span class=\"toc-item-num\">1.1&nbsp;&nbsp;</span>60. KVSの構築</a></span><ul class=\"toc-item\"><li><span><a href=\"http://localhost:8889/notebooks/t-tagami/Chapter_7/Chapter_7.ipynb#メモ\" data-toc-modified-id=\"メモ-1.1.1\"><span class=\"toc-item-num\">1.1.1&nbsp;&nbsp;</span>メモ</a></span><ul class=\"toc-item\"><li><span><a href=\"http://localhost:8889/notebooks/t-tagami/Chapter_7/Chapter_7.ipynb#60\" data-toc-modified-id=\"60-1.1.1.1\"><span class=\"toc-item-num\">1.1.1.1&nbsp;&nbsp;</span>60</a></span></li><li><span><a href=\"http://localhost:8889/notebooks/t-tagami/Chapter_7/Chapter_7.ipynb#61\" data-toc-modified-id=\"61-1.1.1.2\"><span class=\"toc-item-num\">1.1.1.2&nbsp;&nbsp;</span>61</a></span></li><li><span><a href=\"http://localhost:8889/notebooks/t-tagami/Chapter_7/Chapter_7.ipynb#62\" data-toc-modified-id=\"62-1.1.1.3\"><span class=\"toc-item-num\">1.1.1.3&nbsp;&nbsp;</span>62</a></span></li><li><span><a href=\"http://localhost:8889/notebooks/t-tagami/Chapter_7/Chapter_7.ipynb#63\" data-toc-modified-id=\"63-1.1.1.4\"><span class=\"toc-item-num\">1.1.1.4&nbsp;&nbsp;</span>63</a></span></li><li><span><a href=\"http://localhost:8889/notebooks/t-tagami/Chapter_7/Chapter_7.ipynb#64\" data-toc-modified-id=\"64-1.1.1.5\"><span class=\"toc-item-num\">1.1.1.5&nbsp;&nbsp;</span>64</a></span></li><li><span><a href=\"http://localhost:8889/notebooks/t-tagami/Chapter_7/Chapter_7.ipynb#65\" data-toc-modified-id=\"65-1.1.1.6\"><span class=\"toc-item-num\">1.1.1.6&nbsp;&nbsp;</span>65</a></span></li><li><span><a href=\"http://localhost:8889/notebooks/t-tagami/Chapter_7/Chapter_7.ipynb#67\" data-toc-modified-id=\"67-1.1.1.7\"><span class=\"toc-item-num\">1.1.1.7&nbsp;&nbsp;</span>67</a></span></li><li><span><a href=\"http://localhost:8889/notebooks/t-tagami/Chapter_7/Chapter_7.ipynb#68\" data-toc-modified-id=\"68-1.1.1.8\"><span class=\"toc-item-num\">1.1.1.8&nbsp;&nbsp;</span>68</a></span></li><li><span><a href=\"http://localhost:8889/notebooks/t-tagami/Chapter_7/Chapter_7.ipynb#SQL-vs-mongodb(NOSQL)\" data-toc-modified-id=\"SQL-vs-mongodb(NOSQL)-1.1.1.9\"><span class=\"toc-item-num\">1.1.1.9&nbsp;&nbsp;</span>SQL vs mongodb(NOSQL)</a></span></li><li><span><a href=\"http://localhost:8889/notebooks/t-tagami/Chapter_7/Chapter_7.ipynb#69\" data-toc-modified-id=\"69-1.1.1.10\"><span class=\"toc-item-num\">1.1.1.10&nbsp;&nbsp;</span>69</a></span></li></ul></li></ul></li><li><span><a href=\"http://localhost:8889/notebooks/t-tagami/Chapter_7/Chapter_7.ipynb#61.-KVSの検索\" data-toc-modified-id=\"61.-KVSの検索-1.2\"><span class=\"toc-item-num\">1.2&nbsp;&nbsp;</span>61. KVSの検索</a></span></li><li><span><a href=\"http://localhost:8889/notebooks/t-tagami/Chapter_7/Chapter_7.ipynb#62.-KVS内の反復処理\" data-toc-modified-id=\"62.-KVS内の反復処理-1.3\"><span class=\"toc-item-num\">1.3&nbsp;&nbsp;</span>62. KVS内の反復処理</a></span></li><li><span><a href=\"http://localhost:8889/notebooks/t-tagami/Chapter_7/Chapter_7.ipynb#63.-オブジェクトを値に格納したKVS\" data-toc-modified-id=\"63.-オブジェクトを値に格納したKVS-1.4\"><span class=\"toc-item-num\">1.4&nbsp;&nbsp;</span>63. オブジェクトを値に格納したKVS</a></span></li><li><span><a href=\"http://localhost:8889/notebooks/t-tagami/Chapter_7/Chapter_7.ipynb#64.-MongoDBの構築\" data-toc-modified-id=\"64.-MongoDBの構築-1.5\"><span class=\"toc-item-num\">1.5&nbsp;&nbsp;</span>64. MongoDBの構築</a></span></li><li><span><a href=\"http://localhost:8889/notebooks/t-tagami/Chapter_7/Chapter_7.ipynb#65.-MongoDBの検索\" data-toc-modified-id=\"65.-MongoDBの検索-1.6\"><span class=\"toc-item-num\">1.6&nbsp;&nbsp;</span>65. MongoDBの検索</a></span></li><li><span><a href=\"http://localhost:8889/notebooks/t-tagami/Chapter_7/Chapter_7.ipynb#66.-検索件数の取得\" data-toc-modified-id=\"66.-検索件数の取得-1.7\"><span class=\"toc-item-num\">1.7&nbsp;&nbsp;</span>66. 検索件数の取得</a></span></li><li><span><a href=\"http://localhost:8889/notebooks/t-tagami/Chapter_7/Chapter_7.ipynb#67.-複数のドキュメントの取得\" data-toc-modified-id=\"67.-複数のドキュメントの取得-1.8\"><span class=\"toc-item-num\">1.8&nbsp;&nbsp;</span>67. 複数のドキュメントの取得</a></span></li><li><span><a href=\"http://localhost:8889/notebooks/t-tagami/Chapter_7/Chapter_7.ipynb#68.-ソート\" data-toc-modified-id=\"68.-ソート-1.9\"><span class=\"toc-item-num\">1.9&nbsp;&nbsp;</span>68. ソート</a></span></li><li><span><a href=\"http://localhost:8889/notebooks/t-tagami/Chapter_7/Chapter_7.ipynb#69.-Webアプリケーションの作成\" data-toc-modified-id=\"69.-Webアプリケーションの作成-1.10\"><span class=\"toc-item-num\">1.10&nbsp;&nbsp;</span>69. Webアプリケーションの作成</a></span></li></ul></li></ul></div>"
   ]
  },
  {
   "cell_type": "markdown",
   "metadata": {},
   "source": [
    "# 第7章: データベース"
   ]
  },
  {
   "cell_type": "code",
   "execution_count": 11,
   "metadata": {},
   "outputs": [
    {
     "name": "stdout",
     "output_type": "stream",
     "text": [
      "--2017-10-16 11:11:47--  http://www.cl.ecei.tohoku.ac.jp/nlp100/data/artist.json.gz\n",
      "Resolving www.cl.ecei.tohoku.ac.jp... 130.34.192.83\n",
      "Connecting to www.cl.ecei.tohoku.ac.jp|130.34.192.83|:80... connected.\n",
      "HTTP request sent, awaiting response... 200 OK\n",
      "Length: 49275855 (47M) [application/x-gzip]\n",
      "Saving to: ‘/Users/tagami/Documents/python/artist.json.gz’\n",
      "\n",
      "artist.json.gz      100%[===================>]  46.99M  26.8MB/s    in 1.8s    \n",
      "\n",
      "2017-10-16 11:11:49 (26.8 MB/s) - ‘/Users/tagami/Documents/python/artist.json.gz’ saved [49275855/49275855]\n",
      "\n"
     ]
    }
   ],
   "source": [
    "!wget http://www.cl.ecei.tohoku.ac.jp/nlp100/data/artist.json.gz -P /Users/tagami/Documents/python"
   ]
  },
  {
   "cell_type": "code",
   "execution_count": 1,
   "metadata": {},
   "outputs": [
    {
     "name": "stdout",
     "output_type": "stream",
     "text": [
      "  921337\n",
      "\n",
      "gzip: stdout: Broken pipe\n",
      "\u001b[1;39m{\n",
      "  \u001b[0m\u001b[34;1m\"name\"\u001b[0m\u001b[1;39m: \u001b[0m\u001b[0;32m\"WIK▲N\"\u001b[0m\u001b[1;39m,\n",
      "  \u001b[0m\u001b[34;1m\"tags\"\u001b[0m\u001b[1;39m: \u001b[0m\u001b[1;39m[\n",
      "    \u001b[1;39m{\n",
      "      \u001b[0m\u001b[34;1m\"count\"\u001b[0m\u001b[1;39m: \u001b[0m\u001b[0;39m1\u001b[0m\u001b[1;39m,\n",
      "      \u001b[0m\u001b[34;1m\"value\"\u001b[0m\u001b[1;39m: \u001b[0m\u001b[0;32m\"sillyname\"\u001b[0m\u001b[1;39m\n",
      "    \u001b[1;39m}\u001b[0m\u001b[1;39m\n",
      "  \u001b[1;39m]\u001b[0m\u001b[1;39m,\n",
      "  \u001b[0m\u001b[34;1m\"sort_name\"\u001b[0m\u001b[1;39m: \u001b[0m\u001b[0;32m\"WIK▲N\"\u001b[0m\u001b[1;39m,\n",
      "  \u001b[0m\u001b[34;1m\"ended\"\u001b[0m\u001b[1;39m: \u001b[0m\u001b[0;39mtrue\u001b[0m\u001b[1;39m,\n",
      "  \u001b[0m\u001b[34;1m\"gid\"\u001b[0m\u001b[1;39m: \u001b[0m\u001b[0;32m\"8972b1c1-6482-4750-b51f-596d2edea8b1\"\u001b[0m\u001b[1;39m,\n",
      "  \u001b[0m\u001b[34;1m\"id\"\u001b[0m\u001b[1;39m: \u001b[0m\u001b[0;39m805192\u001b[0m\u001b[1;39m\n",
      "\u001b[1;39m}\u001b[0m\n",
      "\u001b[1;39m{\n",
      "  \u001b[0m\u001b[34;1m\"name\"\u001b[0m\u001b[1;39m: \u001b[0m\u001b[0;32m\"Gustav Ruppke\"\u001b[0m\u001b[1;39m,\n",
      "  \u001b[0m\u001b[34;1m\"sort_name\"\u001b[0m\u001b[1;39m: \u001b[0m\u001b[0;32m\"Gustav Ruppke\"\u001b[0m\u001b[1;39m,\n",
      "  \u001b[0m\u001b[34;1m\"ended\"\u001b[0m\u001b[1;39m: \u001b[0m\u001b[0;39mtrue\u001b[0m\u001b[1;39m,\n",
      "  \u001b[0m\u001b[34;1m\"gid\"\u001b[0m\u001b[1;39m: \u001b[0m\u001b[0;32m\"b4f76788-7e6f-41b7-ac7b-dfb67f66282e\"\u001b[0m\u001b[1;39m,\n",
      "  \u001b[0m\u001b[34;1m\"type\"\u001b[0m\u001b[1;39m: \u001b[0m\u001b[0;32m\"Person\"\u001b[0m\u001b[1;39m,\n",
      "  \u001b[0m\u001b[34;1m\"id\"\u001b[0m\u001b[1;39m: \u001b[0m\u001b[0;39m578352\u001b[0m\u001b[1;39m\n",
      "\u001b[1;39m}\u001b[0m\n",
      "\u001b[1;39m{\n",
      "  \u001b[0m\u001b[34;1m\"name\"\u001b[0m\u001b[1;39m: \u001b[0m\u001b[0;32m\"Pete Moutso\"\u001b[0m\u001b[1;39m,\n",
      "  \u001b[0m\u001b[34;1m\"sort_name\"\u001b[0m\u001b[1;39m: \u001b[0m\u001b[0;32m\"Moutso, Pete\"\u001b[0m\u001b[1;39m,\n",
      "  \u001b[0m\u001b[34;1m\"ended\"\u001b[0m\u001b[1;39m: \u001b[0m\u001b[0;39mtrue\u001b[0m\u001b[1;39m,\n",
      "  \u001b[0m\u001b[34;1m\"gid\"\u001b[0m\u001b[1;39m: \u001b[0m\u001b[0;32m\"49add228-eac5-4de8-836c-d75cde7369c3\"\u001b[0m\u001b[1;39m,\n",
      "  \u001b[0m\u001b[34;1m\"type\"\u001b[0m\u001b[1;39m: \u001b[0m\u001b[0;32m\"Person\"\u001b[0m\u001b[1;39m,\n",
      "  \u001b[0m\u001b[34;1m\"id\"\u001b[0m\u001b[1;39m: \u001b[0m\u001b[0;39m371203\u001b[0m\u001b[1;39m\n",
      "\u001b[1;39m}\u001b[0m\n"
     ]
    }
   ],
   "source": [
    "!zcat /Users/tagami/Documents/python/artist.json.gz | wc -l\n",
    "!zcat /Users/tagami/Documents/python/artist.json.gz | head -3 | jq"
   ]
  },
  {
   "cell_type": "markdown",
   "metadata": {},
   "source": [
    "## 60. KVSの構築\n",
    "Key-Value-Store (KVS) を用い，アーティスト名（name）から活動場所（area）を検索するためのデータベースを構築せよ．"
   ]
  },
  {
   "cell_type": "markdown",
   "metadata": {},
   "source": [
    "### メモ\n",
    "#### 60\n",
    "ローカルサーバ : １つのLANのなかでサーバ立てて複数クライアントからアクセス  \n",
    "グローバルサーバ : インターネットを通じてる  \n",
    "Ctrl+Z : killせずにsuspendで一時停止してCPUは食わない fgで再開\n",
    "kill -9 PID : でkillする\n",
    "topコマンド\n",
    "サーバを立てるときはtmuxで立てる\n",
    "'key' in dict の時に.keys()はいらない,つけないとハッシュだからすごく早い\n",
    "#### 61\n",
    "b'str' は中身が文字列やでっていうのを表している\n",
    "utf-8はバイト長が可変 \n",
    "#### 62\n",
    "同じkeyに対して上書きされてしまう\n",
    "key value storeの限界 : keyは指定できるけどvalueの指定はできない keyからvalueを取るのは早い\n",
    "#### 63\n",
    "pickle.dumpsはバイトでボンと出す\n",
    "文字列にしてしまって,それをvalueにすることもできる -> バカコード\n",
    "63はvalueをリッチにすればよさげな表現になるやろ\n",
    "valueで検索すると'死'\n",
    "valueとkeyを逆にすると解決だけど容量が2倍になる\n",
    "#### 64\n",
    "keyが１つではなくてJSONをそのまま突っ込むことができる KVSの限界を超越\n",
    "ただnameから探すとめちゃくちゃ遅いけどindex作るとすごい早くなる -> これでもKVSよりは遅いけど検索クエリに柔軟に対応できる\n",
    "indexの順番は任意のものを作ることができる\n",
    "mongodbで気をつけること : insertは結構やばい関数 2回まわせばデータが2倍になる insertは上書きじゃないので要注意\n",
    "    dbの中になかったらinsertするということをする\n",
    "    insertのメリット : 書き込みの速度がクソ早い\n",
    "    insertの代わりに save がある saveはオブジェクトがないと上書きできない\n",
    "    indexを作ると書き込みが遅くなる\n",
    "    indexを張らずにインサートしまくってからindexをつける\n",
    "    \n",
    "#### 65\n",
    "mongodbはpythonからもシェルからもアクセスできる\n",
    "show dbsで中に何があるか見れる\n",
    "研究室のサーバのmongodbは現在動いていない\n",
    "\n",
    "#### 67\n",
    "\n",
    "#### 68\n",
    "pymongo.DESCENDING\n",
    "sort('rating.value', DESCENDING).limit(10), 1)\n",
    "YSNRさんのコードなんかすごいから見ておく\n",
    "\n",
    "#### SQL vs mongodb(NOSQL)\n",
    "mongodbはjsonで突っ込んでjsonで持ってこれる\n",
    "テーブルの集合になっていなくても,辞書や配列をそのまま突っ込める\n",
    "速さはそんなに求めていない\n",
    "SQLだと最初にスキーマを決めないといけないが,研究ではそうではない"
   ]
  },
  {
   "cell_type": "markdown",
   "metadata": {},
   "source": [
    "#### 69\n",
    "10/2?\n",
    "Webアプリをしっかり作れると就活でも有利  \n",
    "GUIのユーザインタフェースまで作れると強い  \n",
    "効率性&計算量は第一目的ではない  \n",
    "データの処理をサーバにさせるか,クライアントにさせるかは設計次第で変えられる  \n",
    "jsでクライアント側で処理させると技術が漏れる恐れがある(難読化しても結局見えちゃう)  \n",
    "秘密のプログラムでなくてサーバに負担をかけたくないときはクライアント側で処理させる  \n",
    "CGIはpythonがサーバで動きクライアントからは中身は見れない  \n",
    "index.htmlは特別で/index.htmlがなくてもそこに飛ばされる  \n",
    "python -m CGIHTTPSERVERでサーバを立ち上げ  \n",
    "<P>を使うと行間が開いちゃう\n",
    "sectionとarticleとdivはほぼ同じ 最初はdivだけ使えばおk\n",
    "100本ノックの69はtableを使う(表はtableを使う)\n",
    "    \n",
    "11/1 CSS\n",
    "<div style=\"background:green; color:white\" class=\"hoge\" id=\"hage\">hello</div>\n",
    "* classとid\n",
    "    * class\n",
    "    .hoge{\n",
    "    background:red;\n",
    "    }\n",
    "    * id\n",
    "    #hage{\n",
    "    background:red;\n",
    "    }\n",
    "    * １つのhtmlファイルの中に複数の重複idがあるのはダメ\n",
    "    * htmlに直書きしたものの優先度が一番高い\n",
    "    * cssに重複するものがあった時は最後に書いたものが優先される\n",
    "    * １つの<div>に複数のclassを追加できる bold など\n",
    "    * .hoge:hover{\n",
    "    background~\n",
    "    }\n",
    "    * htmlは入れ子構造にできる\n",
    "    * 具体的に指定することができる hogeの中のhage\n",
    "    .hoge>.hage{\n",
    "    }\n",
    "    * > ではなくスペースにすると全ての孫を対象にできる\n",
    "    .hoge .hage{\n",
    "    }\n",
    "    *直接htmlタグで指定できる\n",
    "    body{\n",
    "    }\n",
    "    div{\n",
    "    }\n",
    "* レイアウトについて\n",
    "    CSSレイアウトを学ぶ　http://ja.learnlayout.com/\n",
    "    * displayプロパティ\n",
    "        * あらゆるhtml要素はblockかinlineか\n",
    "        * noneだと無きものにされるがvisibility: hiddenだと中身だけが消える\n",
    "    * marginとpaddingの違いは大切\n",
    "        * margin :auto;にするとコンテンツが常に真ん中にくる\n",
    "        * box-sizing使えばサイズの計算がいらなくなる->最高\n",
    "    * position\n",
    "        * static デフォルト 下に重なって行く\n",
    "        * relative 位置をずらすことができる\n",
    "        * fixed 常に固定で表示できる 広告みたいなの\n",
    "        * absolute 親要素からの相対位置で指定できる\n",
    "        * navとsectionでよくあるレイアウト作れる\n",
    "        * calc(100% - 200px)のような計算ができる\n",
    "    * float 文字をオブジェクトに対して回り込ませる\n",
    "    * ノンデザイナーズデザインブックを見る\n",
    "    * よく使うデザインはクラスで１つにまとめる\n",
    "* javascript\n",
    "    * htmlタグの一部（情報）を書き換えられる（動的ページ）\n",
    "    * htmlファイルの大量生産を防げる\n",
    "    * letとvar varは使ってないけない letかconst\n",
    "    <script></script>\n",
    "    * DOM ドキュメントオブジェクトモデル　ひとかたまりのこと\n",
    "    * デバッグする時にconsole.logを使う\n",
    "    wrapperのデファクトはない\n",
    "    グラフ系がやりたいときはchart.jsを使う\n",
    "    * jQuery\n",
    "    jsよりも短く簡単に書ける　$(document)~\n",
    "    キーイベント一覧見ておこう\n",
    "    * ajax\n",
    "    同期処理 : その処理が終わるまで次に進めない\n",
    "    非同期処理 : 実行中も別の処理ができる\n",
    "    ajax使うと非同期処理ができる\n",
    "* cgiについて\n",
    "    * テンプレートエンジン使おう jinja2\n",
    "    * 重たい処理をpythonのcgiで書くのはやばい -> サーバーを立てちゃえばいい initial loadに時間がかからない\n",
    "    * chmod 755をしないと外部からは実行できない\n",
    "    * サーバをまたいでginなどにつなげばいい"
   ]
  },
  {
   "cell_type": "code",
   "execution_count": 452,
   "metadata": {},
   "outputs": [
    {
     "name": "stdout",
     "output_type": "stream",
     "text": [
      "Overwriting src/60.py\n"
     ]
    }
   ],
   "source": [
    "%%file src/60.py\n",
    "import gzip, json, plyvel\n",
    "\n",
    "db = plyvel.DB('work/artist.ldb', create_if_missing = True)\n",
    "with gzip.open('/Users/tagami/Documents/python/artist.json.gz', 'rt') as f_g:\n",
    "    for line in f_g:\n",
    "        line_dict = json.loads(line)\n",
    "        db.put(line_dict['name'].encode('utf-8'), line_dict.get('area', 'None').encode('utf-8'))"
   ]
  },
  {
   "cell_type": "code",
   "execution_count": 2,
   "metadata": {},
   "outputs": [
    {
     "name": "stdout",
     "output_type": "stream",
     "text": [
      "Overwriting src/60_1.py\n"
     ]
    }
   ],
   "source": [
    "%%file src/60_1.py\n",
    "import gzip, json, plyvel\n",
    "\n",
    "db = plyvel.DB('work/artist_1.ldb', create_if_missing = True)\n",
    "with gzip.open('/Users/tagami/Documents/python/artist.json.gz', 'rt') as f_g:\n",
    "    for line in f_g:\n",
    "        line_dict = json.loads(line)\n",
    "        if 'area' in line_dict:\n",
    "            db.put(line_dict['name'].encode('utf-8'), line_dict['area'].encode('utf-8'))"
   ]
  },
  {
   "cell_type": "code",
   "execution_count": 3,
   "metadata": {},
   "outputs": [],
   "source": [
    "!python src/60_1.py"
   ]
  },
  {
   "cell_type": "markdown",
   "metadata": {},
   "source": [
    "## 61. KVSの検索\n",
    "60で構築したデータベースを用い，特定の（指定された）アーティストの活動場所を取得せよ．"
   ]
  },
  {
   "cell_type": "code",
   "execution_count": 4,
   "metadata": {},
   "outputs": [
    {
     "name": "stdout",
     "output_type": "stream",
     "text": [
      "Overwriting src/61.py\n"
     ]
    }
   ],
   "source": [
    "%%file src/61.py\n",
    "import plyvel, argparse\n",
    "\n",
    "p = argparse.ArgumentParser()\n",
    "p.add_argument('first')\n",
    "args = p.parse_args()\n",
    "\n",
    "db = plyvel.DB('work/artist_1.ldb', create_if_missing=False)\n",
    "print(db.get(args.first.encode('utf-8')))"
   ]
  },
  {
   "cell_type": "code",
   "execution_count": 5,
   "metadata": {},
   "outputs": [
    {
     "name": "stdout",
     "output_type": "stream",
     "text": [
      "b'Japan'\n",
      "None\n",
      "b'United Kingdom'\n"
     ]
    }
   ],
   "source": [
    "!python src/61.py 'X JAPAN'\n",
    "!python src/61.py 'Y JAPAN'\n",
    "!python src/61.py 'Queen'"
   ]
  },
  {
   "cell_type": "markdown",
   "metadata": {},
   "source": [
    "## 62. KVS内の反復処理\n",
    "60で構築したデータベースを用い，活動場所が「Japan」となっているアーティスト数を求めよ"
   ]
  },
  {
   "cell_type": "code",
   "execution_count": 6,
   "metadata": {},
   "outputs": [
    {
     "name": "stdout",
     "output_type": "stream",
     "text": [
      "Overwriting src/62.py\n"
     ]
    }
   ],
   "source": [
    "%%file src/62.py\n",
    "import plyvel, argparse\n",
    "\n",
    "db = plyvel.DB('work/artist_1.ldb', create_if_missing=False)\n",
    "print(sum(1 for name, area in db if area == b'Japan'))"
   ]
  },
  {
   "cell_type": "code",
   "execution_count": 9,
   "metadata": {},
   "outputs": [
    {
     "name": "stdout",
     "output_type": "stream",
     "text": [
      "22128\r\n"
     ]
    }
   ],
   "source": [
    "!python src/62.py"
   ]
  },
  {
   "cell_type": "markdown",
   "metadata": {},
   "source": [
    "## 63. オブジェクトを値に格納したKVS\n",
    "KVSを用い，アーティスト名（name）からタグと被タグ数（タグ付けされた回数）のリストを検索するためのデータベースを構築せよ．さらに，ここで構築したデータベースを用い，アーティスト名からタグと被タグ数を検索せよ．"
   ]
  },
  {
   "cell_type": "code",
   "execution_count": 10,
   "metadata": {},
   "outputs": [
    {
     "name": "stdout",
     "output_type": "stream",
     "text": [
      "Overwriting src/63.py\n"
     ]
    }
   ],
   "source": [
    "%%file src/63.py\n",
    "import gzip, json, plyvel, pickle\n",
    "\n",
    "db = plyvel.DB('work/artist_tag.ldb', create_if_missing = True)\n",
    "with gzip.open('/Users/tagami/Documents/python/artist.json.gz', 'rt') as f_g:\n",
    "    for line in f_g:\n",
    "        line_dict = json.loads(line)\n",
    "        if 'tags' in line_dict:\n",
    "            db.put(line_dict['name'].encode('utf-8'), pickle.dumps(line_dict['tags']))"
   ]
  },
  {
   "cell_type": "code",
   "execution_count": 11,
   "metadata": {},
   "outputs": [],
   "source": [
    "!python src/63.py"
   ]
  },
  {
   "cell_type": "code",
   "execution_count": 12,
   "metadata": {},
   "outputs": [
    {
     "name": "stdout",
     "output_type": "stream",
     "text": [
      "Overwriting src/63_1.py\n"
     ]
    }
   ],
   "source": [
    "%%file src/63_1.py\n",
    "import gzip, json, plyvel, pickle, argparse\n",
    "\n",
    "p = argparse.ArgumentParser()\n",
    "p.add_argument('first')\n",
    "args = p.parse_args()\n",
    "\n",
    "db = plyvel.DB('work/artist_tag.ldb', create_if_missing = True)\n",
    "print(args.first)\n",
    "for tag in pickle.loads(db.get(args.first.encode('utf-8'))):\n",
    "    print(tag['value'], tag['count'])"
   ]
  },
  {
   "cell_type": "code",
   "execution_count": 20,
   "metadata": {},
   "outputs": [
    {
     "name": "stdout",
     "output_type": "stream",
     "text": [
      "Eminem\r\n",
      "midwest hip-hop 1\r\n",
      "detroit hip-hop 1\r\n",
      "american 2\r\n",
      "hardcore hip hop 1\r\n",
      "pop and chart 1\r\n",
      "us 1\r\n",
      "hiphop 1\r\n",
      "rapper 2\r\n",
      "hip-hop 3\r\n",
      "8 mile 1\r\n",
      "hip hop 4\r\n",
      "v 1\r\n",
      "rap 1\r\n"
     ]
    }
   ],
   "source": [
    "!python src/63_1.py 'Eminem'"
   ]
  },
  {
   "cell_type": "markdown",
   "metadata": {},
   "source": [
    "## 64. MongoDBの構築\n",
    "アーティスト情報（artist.json.gz）をデータベースに登録せよ．さらに，次のフィールドでインデックスを作成せよ: name, aliases.name, tags.value, rating.value"
   ]
  },
  {
   "cell_type": "code",
   "execution_count": 1,
   "metadata": {},
   "outputs": [
    {
     "name": "stdout",
     "output_type": "stream",
     "text": [
      "\u001b[34m==>\u001b[0m \u001b[1mSuccessfully started `mongodb` (label: homebrew.mxcl.mongodb)\u001b[0m\r\n"
     ]
    }
   ],
   "source": [
    "!brew services start mongodb"
   ]
  },
  {
   "cell_type": "code",
   "execution_count": 2,
   "metadata": {},
   "outputs": [
    {
     "name": "stdout",
     "output_type": "stream",
     "text": [
      "Stopping `mongodb`... (might take a while)\n",
      "\u001b[34m==>\u001b[0m \u001b[1mSuccessfully stopped `mongodb` (label: homebrew.mxcl.mongodb)\u001b[0m\n"
     ]
    }
   ],
   "source": [
    "!brew services stop mongodb"
   ]
  },
  {
   "cell_type": "code",
   "execution_count": 53,
   "metadata": {
    "scrolled": true
   },
   "outputs": [
    {
     "name": "stdout",
     "output_type": "stream",
     "text": [
      "Overwriting src/64.py\n"
     ]
    }
   ],
   "source": [
    "%%file src/64.py\n",
    "import pymongo, gzip, json\n",
    "\n",
    "client = pymongo.MongoClient()\n",
    "db = client.artist_db\n",
    "co = db.my_collection\n",
    "\n",
    "with gzip.open('/Users/tagami/Documents/python/artist.json.gz', 'rt') as f_g:\n",
    "    for line in f_g:\n",
    "        co.insert(json.loads(line.rstrip()))\n",
    "\n",
    "co.create_index([('name', pymongo.ASCENDING),\n",
    "                 ('aliases.name', pymongo.ASCENDING),\n",
    "                 ('tag.value', pymongo.ASCENDING),\n",
    "                 ('rating.value', pymongo.ASCENDING)])"
   ]
  },
  {
   "cell_type": "code",
   "execution_count": 67,
   "metadata": {},
   "outputs": [],
   "source": [
    "!python src/64.py"
   ]
  },
  {
   "cell_type": "markdown",
   "metadata": {},
   "source": [
    "## 65. MongoDBの検索\n",
    "MongoDBのインタラクティブシェルを用いて，\"Queen\"というアーティストに関する情報を取得せよ．さらに，これと同様の処理を行うプログラムを実装せよ．"
   ]
  },
  {
   "cell_type": "code",
   "execution_count": 68,
   "metadata": {},
   "outputs": [
    {
     "name": "stdout",
     "output_type": "stream",
     "text": [
      "Overwriting src/65.py\n"
     ]
    }
   ],
   "source": [
    "%%file src/65.py\n",
    "import pymongo\n",
    " \n",
    "client = pymongo.MongoClient()\n",
    "db = client.artist_db\n",
    "for artist in db.my_collection.find({'name': 'Queen'}): print(artist)"
   ]
  },
  {
   "cell_type": "code",
   "execution_count": 69,
   "metadata": {},
   "outputs": [
    {
     "name": "stdout",
     "output_type": "stream",
     "text": [
      "{'gid': '5eecaf18-02ec-47af-a4f2-7831db373419', 'id': 992994, 'ended': True, '_id': ObjectId('59f7635f2e96ccae33758c70'), 'name': 'Queen', 'sort_name': 'Queen'}\r\n",
      "{'gid': '420ca290-76c5-41af-999e-564d7c71f1a7', 'id': 701492, 'area': 'Japan', 'gender': 'Female', 'tags': [{'value': 'kamen rider w', 'count': 1}, {'value': 'related-akb48', 'count': 1}], 'type': 'Character', 'ended': True, '_id': ObjectId('59f763022e96ccae33730b6c'), 'aliases': [{'name': 'Queen', 'sort_name': 'Queen'}], 'name': 'Queen', 'sort_name': 'Queen'}\r\n",
      "{'tags': [{'value': 'hard rock', 'count': 2}, {'value': '70s', 'count': 1}, {'value': 'queen family', 'count': 1}, {'value': '90s', 'count': 1}, {'value': '80s', 'count': 1}, {'value': 'glam rock', 'count': 1}, {'value': 'british', 'count': 4}, {'value': 'english', 'count': 1}, {'value': 'uk', 'count': 2}, {'value': 'pop/rock', 'count': 1}, {'value': 'pop-rock', 'count': 1}, {'value': 'britannique', 'count': 1}, {'value': 'classic pop and rock', 'count': 1}, {'value': 'queen', 'count': 1}, {'value': 'united kingdom', 'count': 1}, {'value': 'langham 1 studio bbc', 'count': 1}, {'value': 'kind of magic', 'count': 1}, {'value': 'band', 'count': 1}, {'value': 'rock', 'count': 6}, {'value': 'platinum', 'count': 1}], 'area': 'United Kingdom', 'begin': {'date': 27, 'month': 6, 'year': 1970}, 'rating': {'value': 92, 'count': 24}, 'name': 'Queen', 'sort_name': 'Queen', 'gid': '0383dadf-2a4e-4d10-a46a-e9e041da8eb3', 'id': 192, '_id': ObjectId('59f763212e96ccae3373d218'), 'ended': True, 'type': 'Group', 'aliases': [{'name': '女王', 'sort_name': '女王'}]}\r\n"
     ]
    }
   ],
   "source": [
    "!python src/65.py"
   ]
  },
  {
   "cell_type": "code",
   "execution_count": null,
   "metadata": {},
   "outputs": [],
   "source": [
    "> use artist_db\n",
    "switched to db artist_db\n",
    "> db.my_collection.find({name: \"Queen\"})\n",
    "{ \"_id\" : ObjectId(\"59e4e83f2e96cc4d5a777959\"), \"ended\" : true, \"gid\" : \"5eecaf18-02ec-47af-a4f2-7831db373419\", \"name\" : \"Queen\", \"sort_name\" : \"Queen\", \"id\" : 992994 }\n",
    "{ \"_id\" : ObjectId(\"59e4e7c72e96cc4d5a74f855\"), \"aliases\" : [ { \"sort_name\" : \"Queen\", \"name\" : \"Queen\" } ], \"type\" : \"Character\", \"ended\" : true, \"id\" : 701492, \"gid\" : \"420ca290-76c5-41af-999e-564d7c71f1a7\", \"name\" : \"Queen\", \"tags\" : [ { \"count\" : 1, \"value\" : \"kamen rider w\" }, { \"count\" : 1, \"value\" : \"related-akb48\" } ], \"sort_name\" : \"Queen\", \"gender\" : \"Female\", \"area\" : \"Japan\" }\n",
    "{ \"_id\" : ObjectId(\"59e4e7ea2e96cc4d5a75bf01\"), \"begin\" : { \"date\" : 27, \"month\" : 6, \"year\" : 1970 }, \"name\" : \"Queen\", \"type\" : \"Group\", \"tags\" : [ { \"count\" : 2, \"value\" : \"hard rock\" }, { \"count\" : 1, \"value\" : \"70s\" }, { \"count\" : 1, \"value\" : \"queen family\" }, { \"count\" : 1, \"value\" : \"90s\" }, { \"count\" : 1, \"value\" : \"80s\" }, { \"count\" : 1, \"value\" : \"glam rock\" }, { \"count\" : 4, \"value\" : \"british\" }, { \"count\" : 1, \"value\" : \"english\" }, { \"count\" : 2, \"value\" : \"uk\" }, { \"count\" : 1, \"value\" : \"pop/rock\" }, { \"count\" : 1, \"value\" : \"pop-rock\" }, { \"count\" : 1, \"value\" : \"britannique\" }, { \"count\" : 1, \"value\" : \"classic pop and rock\" }, { \"count\" : 1, \"value\" : \"queen\" }, { \"count\" : 1, \"value\" : \"united kingdom\" }, { \"count\" : 1, \"value\" : \"langham 1 studio bbc\" }, { \"count\" : 1, \"value\" : \"kind of magic\" }, { \"count\" : 1, \"value\" : \"band\" }, { \"count\" : 6, \"value\" : \"rock\" }, { \"count\" : 1, \"value\" : \"platinum\" } ], \"id\" : 192, \"ended\" : true, \"aliases\" : [ { \"sort_name\" : \"女王\", \"name\" : \"女王\" } ], \"gid\" : \"0383dadf-2a4e-4d10-a46a-e9e041da8eb3\", \"area\" : \"United Kingdom\", \"sort_name\" : \"Queen\", \"rating\" : { \"count\" : 24, \"value\" : 92 } }"
   ]
  },
  {
   "cell_type": "markdown",
   "metadata": {},
   "source": [
    "## 66. 検索件数の取得\n",
    "MongoDBのインタラクティブシェルを用いて，活動場所が「Japan」となっているアーティスト数を求めよ"
   ]
  },
  {
   "cell_type": "code",
   "execution_count": null,
   "metadata": {},
   "outputs": [],
   "source": [
    "> db.my_collection.find({area: \"Japan\"}).count()\n",
    "22821"
   ]
  },
  {
   "cell_type": "markdown",
   "metadata": {},
   "source": [
    "## 67. 複数のドキュメントの取得\n",
    "特定の（指定した）別名を持つアーティストを検索せよ．"
   ]
  },
  {
   "cell_type": "code",
   "execution_count": 70,
   "metadata": {},
   "outputs": [
    {
     "name": "stdout",
     "output_type": "stream",
     "text": [
      "Overwriting src/67.py\n"
     ]
    }
   ],
   "source": [
    "%%file src/67.py\n",
    "import pymongo, argparse\n",
    "\n",
    "p = argparse.ArgumentParser()\n",
    "p.add_argument('first')\n",
    "args = p.parse_args()\n",
    "\n",
    "client = pymongo.MongoClient()\n",
    "db = client.artist_db\n",
    "for artist in db.my_collection.find({'aliases.name': args.first}):\n",
    "    print(artist)"
   ]
  },
  {
   "cell_type": "code",
   "execution_count": 171,
   "metadata": {},
   "outputs": [
    {
     "name": "stdout",
     "output_type": "stream",
     "text": [
      "{'ended': True, '_id': ObjectId('59f7639d2e96ccae33775288'), 'gender': 'Male', 'aliases': [{'sort_name': '2 PAC', 'name': '2 PAC'}, {'sort_name': 'TuPac', 'name': 'TuPac'}, {'sort_name': '2pac (Makaveli the Don)', 'name': '2pac (Makaveli the Don)'}], 'type': 'Person', 'name': '2Pac', 'area': 'United States', 'rating': {'value': 91, 'count': 15}, 'id': 163, 'tags': [{'value': 'hip hop', 'count': 3}, {'value': 'hip hop rnb and dance hall', 'count': 1}, {'value': '2 pac', 'count': 1}, {'value': 'death by murder', 'count': 1}, {'value': 'death by gun', 'count': 1}, {'value': 'above the rim', 'count': 1}, {'value': 'temor a la muerte', 'count': 1}, {'value': 'unil the end of time', 'count': 1}], 'gid': '382f1005-e9ab-4684-afd4-0bdae4ee37f2', 'sort_name': '2Pac', 'begin': {'month': 6, 'year': 1971, 'date': 16}, 'end': {'month': 9, 'year': 1996, 'date': 13}}\r\n"
     ]
    }
   ],
   "source": [
    "!python src/67.py '2 PAC'"
   ]
  },
  {
   "cell_type": "markdown",
   "metadata": {},
   "source": [
    "## 68. ソート\n",
    "\"dance\"というタグを付与されたアーティストの中でレーティングの投票数が多いアーティスト・トップ10を求めよ．"
   ]
  },
  {
   "cell_type": "code",
   "execution_count": 113,
   "metadata": {},
   "outputs": [
    {
     "name": "stdout",
     "output_type": "stream",
     "text": [
      "Overwriting src/68.py\n"
     ]
    }
   ],
   "source": [
    "%%file src/68.py\n",
    "import pymongo\n",
    "from pymongo import DESCENDING\n",
    "\n",
    "dance_list = list()\n",
    "client = pymongo.MongoClient()\n",
    "db = client.artist_db\n",
    "    \n",
    "for artist in db.my_collection.find({'tags.value': 'dance'}).sort('rating.count', DESCENDING).limit(10):\n",
    "    print(artist['name'], artist['rating']['count'])"
   ]
  },
  {
   "cell_type": "code",
   "execution_count": 114,
   "metadata": {},
   "outputs": [
    {
     "name": "stdout",
     "output_type": "stream",
     "text": [
      "Madonna 26\n",
      "Björk 23\n",
      "The Prodigy 23\n",
      "Rihanna 15\n",
      "Britney Spears 13\n",
      "Maroon 5 11\n",
      "Adam Lambert 7\n",
      "Fatboy Slim 7\n",
      "Basement Jaxx 6\n",
      "Cornershop 5\n"
     ]
    }
   ],
   "source": [
    "!python src/68.py"
   ]
  },
  {
   "cell_type": "markdown",
   "metadata": {},
   "source": [
    "## 69. Webアプリケーションの作成\n",
    "ユーザから入力された検索条件に合致するアーティストの情報を表示するWebアプリケーションを作成せよ．アーティスト名，アーティストの別名，タグ等で検索条件を指定し，アーティスト情報のリストをレーティングの高い順などで整列して表示せよ．"
   ]
  },
  {
   "cell_type": "code",
   "execution_count": 200,
   "metadata": {
    "scrolled": true
   },
   "outputs": [
    {
     "name": "stdout",
     "output_type": "stream",
     "text": [
      "Overwriting work/69/cgi-bin/69.py\n"
     ]
    }
   ],
   "source": [
    "%%file work/69/cgi-bin/69.py\n",
    "#!/usr/bin/env python\n",
    "# -*- coding:utf-8 -*-\n",
    "import pymongo, cgi, cgitb\n",
    "from pymongo import DESCENDING\n",
    "\n",
    "cgitb.enable()\n",
    "print('Content-type: text/html; charset=UTF-8\\r\\n')\n",
    "print('''\n",
    "    <html lang=\"ja\">\n",
    "  <head>\n",
    "    <title>69. Webアプリケーションの作成</title>\n",
    "    <h2>69. Webアプリケーションの作成</h2>\n",
    "    <!-- Required meta tags -->\n",
    "    <meta charset=\"utf-8\">\n",
    "    <meta name=\"viewport\" content=\"width=device-width, initial-scale=1, shrink-to-fit=no\">\n",
    "    <!-- Bootstrap CSS -->\n",
    "    <link rel=\"stylesheet\" href=\"https://maxcdn.bootstrapcdn.com/bootstrap/4.0.0-beta.2/css/bootstrap.min.css\" integrity=\"sha384-PsH8R72JQ3SOdhVi3uxftmaW6Vc51MKb0q5P2rRUpPvrszuE4W1povHYgTpBfshb\" crossorigin=\"anonymous\">\n",
    "  </head>\n",
    "  <body>\n",
    "    <form method=\"GET\" action=\"/cgi-bin/69.py\">\n",
    "      <label for=\"search_rule\">検索条件</label>\n",
    "      <select name='select'>\n",
    "      <option value=name >アーティスト名</option>\n",
    "      <option value=aliases.name>アーティストの別名</option>\n",
    "      <option value=tags.value>タグ</option>\n",
    "      </select>\n",
    "    <label for=\"search_text\">検索キーワード</label>\n",
    "    <input type=\"text\" name=\"form_text\" placeholder=\"キーワード\">\n",
    "    <input type=\"submit\" value=\"検索\" class=\"btn btn-primary\"> <input type=\"reset\" value=\"リセット\" class=\"btn btn-danger\">\n",
    "    </form>\n",
    "    <!-- Optional JavaScript -->\n",
    "    <!-- jQuery first, then Popper.js, then Bootstrap JS -->\n",
    "    <script src=\"https://code.jquery.com/jquery-3.2.1.slim.min.js\" integrity=\"sha384-KJ3o2DKtIkvYIK3UENzmM7KCkRr/rE9/Qpg6aAZGJwFDMVNA/GpGFF93hXpG5KkN\" crossorigin=\"anonymous\"></script>\n",
    "    <script src=\"https://cdnjs.cloudflare.com/ajax/libs/popper.js/1.12.3/umd/popper.min.js\" integrity=\"sha384-vFJXuSJphROIrBnz7yo7oB41mKfc8JzQZiCq4NCceLEaO4IHwicKwpJf9c9IpFgh\" crossorigin=\"anonymous\"></script>\n",
    "    <script src=\"https://maxcdn.bootstrapcdn.com/bootstrap/4.0.0-beta.2/js/bootstrap.min.js\" integrity=\"sha384-alpBpkh1PFOepccYVYDB4do5UnbKysX5WZXm3XxPqe5iKTfUKjNkCk9SaVuEZflJ\" crossorigin=\"anonymous\"></script>\n",
    "''')\n",
    "\n",
    "form = cgi.FieldStorage()\n",
    "input_text = ''\n",
    "input_type = ''\n",
    "if 'select' in form and 'form_text' in form:\n",
    "    input_text = form['form_text'].value\n",
    "    input_type = form['select'].value\n",
    "\n",
    "hoge = ''\n",
    "if input_type == 'name': hoge = 'アーティスト名'\n",
    "elif input_type == 'aliases.name': hoge = 'アーティストの別名'\n",
    "elif input_type == 'tags.value': hoge = 'タグ'\n",
    "\n",
    "print('''\n",
    "    {}を{}で検索した結果<br>\n",
    "    <table class=\"table table-striped\">\n",
    "    <thead>\n",
    "        <tr>\n",
    "            <th style=\"width:50px;\">#</th>\n",
    "            <th style=\"width:150px;\">レーティング</th>\n",
    "            <th style=\"width:150px;\">アーティスト名</th>\n",
    "            <th style=\"width:150px;\">活動場所</th>\n",
    "            <th>別名</th>\n",
    "            <th>タグ</th>\n",
    "        </tr>\n",
    "    </thead>\n",
    "    <tbody>\n",
    "'''.format(hoge, input_text))\n",
    "\n",
    "client = pymongo.MongoClient()\n",
    "db = client.artist_db\n",
    "artists = db.my_collection.find({input_type: input_text}).sort('rating.count',pymongo.DESCENDING)\n",
    "\n",
    "for num, artist in enumerate(artists):\n",
    "    aliases_names = None\n",
    "    tags = None\n",
    "    rating = None\n",
    "    if 'aliases' in artist: aliases_names = [aliase['name'] for aliase in artist['aliases']]\n",
    "    if 'tags' in artist: tags = [aliase['value'] for aliase in artist['tags']]\n",
    "    if artist.get('rating'): rating = artist['rating']['count']\n",
    "    print('''\n",
    "        <tr>\n",
    "            <td>{}</td>\n",
    "            <td>{}</td>\n",
    "            <td>{}</td>\n",
    "            <td>{}</td>\n",
    "            <td>{}</td>\n",
    "            <td>{}</td>\n",
    "        </tr>\n",
    "        '''.format(num+1, rating, artist.get('name'), artist.get('area'), aliases_names, tags))"
   ]
  },
  {
   "cell_type": "code",
   "execution_count": 12,
   "metadata": {},
   "outputs": [
    {
     "data": {
      "text/plain": [
       "<matplotlib.image.AxesImage at 0x117024438>"
      ]
     },
     "execution_count": 12,
     "metadata": {},
     "output_type": "execute_result"
    },
    {
     "data": {
      "image/png": "[encoded data removed]",
      "text/plain": [
       "<matplotlib.figure.Figure at 0x116cee5f8>"
      ]
     },
     "metadata": {},
     "output_type": "display_data"
    }
   ],
   "source": [
    "%matplotlib inline\n",
    "from PIL import Image\n",
    "import matplotlib.pyplot as plt\n",
    "import numpy as np\n",
    "plt.figure(figsize=(16, 16))\n",
    "im = Image.open('data/スクリーンショット 2017-11-01 3.02.38.png')\n",
    "plt.imshow(np.array(im))"
   ]
  },
  {
   "cell_type": "code",
   "execution_count": null,
   "metadata": {},
   "outputs": [],
   "source": []
  }
 ],
 "metadata": {
  "kernelspec": {
   "display_name": "Python 3",
   "language": "python",
   "name": "python3"
  },
  "language_info": {
   "codemirror_mode": {
    "name": "ipython",
    "version": 3
   },
   "file_extension": ".py",
   "mimetype": "text/x-python",
   "name": "python",
   "nbconvert_exporter": "python",
   "pygments_lexer": "ipython3",
   "version": "3.5.2"
  },
  "toc": {
   "nav_menu": {},
   "number_sections": true,
   "sideBar": false,
   "skip_h1_title": false,
   "toc_cell": true,
   "toc_position": {},
   "toc_section_display": "block",
   "toc_window_display": false
  }
 },
 "nbformat": 4,
 "nbformat_minor": 2
}
