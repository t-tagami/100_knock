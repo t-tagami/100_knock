{
 "cells": [
  {
   "cell_type": "markdown",
   "metadata": {
    "toc": "true"
   },
   "source": [
    " # Table of Contents\n",
    "<div class=\"toc\" style=\"margin-top: 1em;\"><ul class=\"toc-item\" id=\"toc-level0\"><li><span><a href=\"http://localhost:8889/notebooks/t-tagami/Chapter_8/Chapter_8.ipynb#第8章:-機械学習\" data-toc-modified-id=\"第8章:-機械学習-1\">第8章: 機械学習</a></span><ul class=\"toc-item\"><li><span><a href=\"http://localhost:8889/notebooks/t-tagami/Chapter_8/Chapter_8.ipynb#70.-データの入手・整形\" data-toc-modified-id=\"70.-データの入手・整形-1.1\">70. データの入手・整形</a></span></li><li><span><a href=\"http://localhost:8889/notebooks/t-tagami/Chapter_8/Chapter_8.ipynb#71.-ストップワード\" data-toc-modified-id=\"71.-ストップワード-1.2\">71. ストップワード</a></span></li><li><span><a href=\"http://localhost:8889/notebooks/t-tagami/Chapter_8/Chapter_8.ipynb#72.-素性抽出\" data-toc-modified-id=\"72.-素性抽出-1.3\">72. 素性抽出</a></span></li><li><span><a href=\"http://localhost:8889/notebooks/t-tagami/Chapter_8/Chapter_8.ipynb#73.-学習\" data-toc-modified-id=\"73.-学習-1.4\">73. 学習</a></span></li><li><span><a href=\"http://localhost:8889/notebooks/t-tagami/Chapter_8/Chapter_8.ipynb#ベースライン\" data-toc-modified-id=\"ベースライン-1.5\">ベースライン</a></span></li><li><span><a href=\"http://localhost:8889/notebooks/t-tagami/Chapter_8/Chapter_8.ipynb#bigram\" data-toc-modified-id=\"bigram-1.6\">bigram</a></span></li><li><span><a href=\"http://localhost:8889/notebooks/t-tagami/Chapter_8/Chapter_8.ipynb#tf-idf\" data-toc-modified-id=\"tf-idf-1.7\">tf-idf</a></span></li><li><span><a href=\"http://localhost:8889/notebooks/t-tagami/Chapter_8/Chapter_8.ipynb#74.-予測\" data-toc-modified-id=\"74.-予測-1.8\">74. 予測</a></span></li><li><span><a href=\"http://localhost:8889/notebooks/t-tagami/Chapter_8/Chapter_8.ipynb#75.-素性の重み\" data-toc-modified-id=\"75.-素性の重み-1.9\">75. 素性の重み</a></span></li><li><span><a href=\"http://localhost:8889/notebooks/t-tagami/Chapter_8/Chapter_8.ipynb#76.-ラベル付け\" data-toc-modified-id=\"76.-ラベル付け-1.10\">76. ラベル付け</a></span></li><li><span><a href=\"http://localhost:8889/notebooks/t-tagami/Chapter_8/Chapter_8.ipynb#77.-正解率の計測\" data-toc-modified-id=\"77.-正解率の計測-1.11\">77. 正解率の計測</a></span></li><li><span><a href=\"http://localhost:8889/notebooks/t-tagami/Chapter_8/Chapter_8.ipynb#78.-5分割交差検証\" data-toc-modified-id=\"78.-5分割交差検証-1.12\">78. 5分割交差検証</a></span><ul class=\"toc-item\"><li><span><a href=\"http://localhost:8889/notebooks/t-tagami/Chapter_8/Chapter_8.ipynb#層化交差検証\" data-toc-modified-id=\"層化交差検証-1.12.1\">層化交差検証</a></span></li></ul></li><li><span><a href=\"http://localhost:8889/notebooks/t-tagami/Chapter_8/Chapter_8.ipynb#79.-適合率-再現率グラフの描画\" data-toc-modified-id=\"79.-適合率-再現率グラフの描画-1.13\">79. 適合率-再現率グラフの描画</a></span><ul class=\"toc-item\"><li><span><a href=\"http://localhost:8889/notebooks/t-tagami/Chapter_8/Chapter_8.ipynb#Plot-the-Precision-Recall-curve\" data-toc-modified-id=\"Plot-the-Precision-Recall-curve-1.13.1\">Plot the Precision-Recall curve</a></span></li><li><span><a href=\"http://localhost:8889/notebooks/t-tagami/Chapter_8/Chapter_8.ipynb#Plot-the-ROC_curve\" data-toc-modified-id=\"Plot-the-ROC_curve-1.13.2\">Plot the ROC_curve</a></span></li></ul></li></ul></li></ul></div>"
   ]
  },
  {
   "cell_type": "markdown",
   "metadata": {},
   "source": [
    "# 第8章: 機械学習"
   ]
  },
  {
   "cell_type": "code",
   "execution_count": 2,
   "metadata": {},
   "outputs": [
    {
     "name": "stdout",
     "output_type": "stream",
     "text": [
      "--2017-10-02 00:54:03--  http://www.cs.cornell.edu/people/pabo/movie-review-data/rt-polaritydata.tar.gz\n",
      "Resolving www.cs.cornell.edu... 132.236.207.20\n",
      "Connecting to www.cs.cornell.edu|132.236.207.20|:80... connected.\n",
      "HTTP request sent, awaiting response... 200 OK\n",
      "Length: 487770 (476K) [application/x-gzip]\n",
      "Saving to: ‘work/rt-polaritydata.tar.gz.5’\n",
      "\n",
      "rt-polaritydata.tar 100%[===================>] 476.34K   367KB/s    in 1.3s    \n",
      "\n",
      "2017-10-02 00:54:05 (367 KB/s) - ‘work/rt-polaritydata.tar.gz.5’ saved [487770/487770]\n",
      "\n"
     ]
    }
   ],
   "source": [
    "!wget http://www.cs.cornell.edu/people/pabo/movie-review-data/rt-polaritydata.tar.gz -P work"
   ]
  },
  {
   "cell_type": "code",
   "execution_count": 1,
   "metadata": {
    "scrolled": true
   },
   "outputs": [
    {
     "name": "stdout",
     "output_type": "stream",
     "text": [
      "{'language': '', 'confidence': 0.73, 'encoding': 'Windows-1252'}\n"
     ]
    }
   ],
   "source": [
    "import chardet\n",
    "with open('data/rt-polarity.neg', 'rb') as f:\n",
    "    print(chardet.detect(f.read()))"
   ]
  },
  {
   "cell_type": "markdown",
   "metadata": {
    "collapsed": true
   },
   "source": [
    "## 70. データの入手・整形\n",
    "文に関する極性分析の正解データを用い，以下の要領で正解データ（sentiment.txt）を作成せよ．  \n",
    "1.rt-polarity.posの各行の先頭に\"+1 \"という文字列を追加する（極性ラベル\"+1\"とスペースに続けて肯定的な文の内容が続く）  \n",
    "2.rt-polarity.negの各行の先頭に\"-1 \"という文字列を追加する（極性ラベル\"-1\"とスペースに続けて否定的な文の内容が続く）  \n",
    "3.上述1と2の内容を結合（concatenate）し，行をランダムに並び替える  \n",
    "sentiment.txtを作成したら，正例（肯定的な文）の数と負例（否定的な文）の数を確認せよ．"
   ]
  },
  {
   "cell_type": "code",
   "execution_count": 24,
   "metadata": {
    "collapsed": true,
    "scrolled": true
   },
   "outputs": [],
   "source": [
    "!sed 's/^/+1 /g' data/rt-polarity.pos > work/rt-polarity_added.pos\n",
    "!sed 's/^/-1 /g' data/rt-polarity.neg > work/rt-polarity_added.neg\n",
    "!cat work/rt-polarity_added.neg work/rt-polarity_added.pos | gshuf > work/sentiment.txt"
   ]
  },
  {
   "cell_type": "code",
   "execution_count": 25,
   "metadata": {},
   "outputs": [
    {
     "name": "stdout",
     "output_type": "stream",
     "text": [
      "5331\n",
      "5331\n",
      "+1 the pianist [is] a supremely hopeful cautionary tale of war's madness remembered that we , today , can prevent its tragic waste of life . here is a divine monument to a single man's struggle to regain his life , his dignity and his music . \n",
      "+1  \" birthday girl \" is an actor's movie first and foremost . \n",
      "-1 whatever eyre's failings as a dramatist , he deserves credit for bringing audiences into this hard and bitter place . \n",
      "-1 nasty , ugly , pointless and depressing , even if you hate clowns . \n",
      "-1 the movie's accumulated force still feels like an ugly knot tightening in your stomach . but is that knot from dramatic tension or a symptom of artistic malnutrition ? \n"
     ]
    }
   ],
   "source": [
    "!grep -cE '^\\+' work/sentiment.txt\n",
    "!grep -cE '^-' work/sentiment.txt\n",
    "!head -5 work/sentiment.txt"
   ]
  },
  {
   "cell_type": "code",
   "execution_count": 26,
   "metadata": {
    "collapsed": true
   },
   "outputs": [],
   "source": [
    "import random\n",
    "with open('work/sentiment.txt', 'w') as f_sent, open('data/rt-polarity.pos', encoding='latin-1') as f_pos, open('data/rt-polarity.neg', encoding='latin-1') as f_neg:\n",
    "    lines = list()\n",
    "    for pos, neg in zip(f_pos, f_neg):\n",
    "        lines.append('+1 ' + pos), lines.append('-1 ' + neg)\n",
    "    f_sent.writelines(random.sample(lines, len(lines)))"
   ]
  },
  {
   "cell_type": "markdown",
   "metadata": {},
   "source": [
    "## 71. ストップワード\n",
    "英語のストップワードのリスト（ストップリスト）を適当に作成せよ．さらに，引数に与えられた単語（文字列）がストップリストに含まれている場合は真，それ以外は偽を返す関数を実装せよ．さらに，その関数に対するテストを記述せよ．"
   ]
  },
  {
   "cell_type": "code",
   "execution_count": 1,
   "metadata": {
    "collapsed": true
   },
   "outputs": [],
   "source": [
    "from sklearn.feature_extraction.text import ENGLISH_STOP_WORDS\n",
    "def is_stopword(word, stopwords):\n",
    "    return word in stopwords"
   ]
  },
  {
   "cell_type": "code",
   "execution_count": 2,
   "metadata": {},
   "outputs": [
    {
     "name": "stderr",
     "output_type": "stream",
     "text": [
      "..\n",
      "----------------------------------------------------------------------\n",
      "Ran 2 tests in 0.004s\n",
      "\n",
      "OK\n"
     ]
    },
    {
     "data": {
      "text/plain": [
       "<unittest.main.TestProgram at 0x10e789320>"
      ]
     },
     "execution_count": 2,
     "metadata": {},
     "output_type": "execute_result"
    }
   ],
   "source": [
    "import unittest, sys\n",
    "\n",
    "class Test(unittest.TestCase):\n",
    "\n",
    "    def test_1(self):\n",
    "        expected = True\n",
    "        actual = is_stopword('a', ENGLISH_STOP_WORDS)\n",
    "        self.assertEqual(expected, actual)\n",
    "        \n",
    "    def test_2(self):\n",
    "        expected = False\n",
    "        actual = is_stopword('aaaaa', ENGLISH_STOP_WORDS)\n",
    "        self.assertEqual(expected, actual)\n",
    "    \n",
    "unittest.main(argv=['ignored'], exit=False)"
   ]
  },
  {
   "cell_type": "markdown",
   "metadata": {},
   "source": [
    "## 72. 素性抽出\n",
    "極性分析に有用そうな素性を各自で設計し，学習データから素性を抽出せよ．素性としては，レビューからストップワードを除去し，各単語をステミング処理したものが最低限のベースラインとなるであろう．"
   ]
  },
  {
   "cell_type": "code",
   "execution_count": 3,
   "metadata": {
    "collapsed": true
   },
   "outputs": [],
   "source": [
    "import re\n",
    "from stemming.porter2 import stem\n",
    "\n",
    "def rm_symbol(sentence):\n",
    "    symbol = re.compile(r\"[#$%&'()*+-/:;<=>@[\\]^_`{|}~”!?\\\"＃＄％＆’（）＝～｜‘｛＋＊｝＜＞＿－＾￥＠「；：」、。・！？]\")\n",
    "    return re.sub(symbol, '', sentence)\n",
    "\n",
    "def stemming(sentence, ENGLISH_STOP_WORDS):\n",
    "    return [stem(word) for word in rm_symbol(sentence).split() if not is_stopword(word, ENGLISH_STOP_WORDS)]\n",
    "\n",
    "with open('work/sentiment.txt', encoding='latin-1') as f_sent:\n",
    "    X_words = list()\n",
    "    Y_labels = list()\n",
    "    Z_sentences = list()\n",
    "    for line in f_sent:\n",
    "        label, sentence = line.split(' ', 1)\n",
    "        X_words.append(stemming(sentence, ENGLISH_STOP_WORDS))\n",
    "        Y_labels.append(label)\n",
    "        Z_sentences.append(sentence.rstrip())"
   ]
  },
  {
   "cell_type": "code",
   "execution_count": 4,
   "metadata": {},
   "outputs": [
    {
     "data": {
      "text/plain": [
       "[['encourag',\n",
       "  'young',\n",
       "  'old',\n",
       "  'alik',\n",
       "  'uniqu',\n",
       "  'entertain',\n",
       "  'twist',\n",
       "  'classic',\n",
       "  'whale',\n",
       "  'tale',\n",
       "  'wont',\n",
       "  'sorri'],\n",
       " ['god',\n",
       "  'great',\n",
       "  'address',\n",
       "  'interest',\n",
       "  'matter',\n",
       "  'ident',\n",
       "  'heritag',\n",
       "  'hard',\n",
       "  'shake',\n",
       "  'feel',\n",
       "  'intend',\n",
       "  'differ',\n",
       "  'kind',\n",
       "  'film'],\n",
       " ['endear', 'offbeat', 'romant', 'comedi', 'great', 'meetcut', 'gimmick']]"
      ]
     },
     "execution_count": 4,
     "metadata": {},
     "output_type": "execute_result"
    }
   ],
   "source": [
    "X_words[:3]"
   ]
  },
  {
   "cell_type": "code",
   "execution_count": 5,
   "metadata": {},
   "outputs": [
    {
     "data": {
      "text/plain": [
       "['+1', '-1', '+1']"
      ]
     },
     "execution_count": 5,
     "metadata": {},
     "output_type": "execute_result"
    }
   ],
   "source": [
    "Y_labels[:3]"
   ]
  },
  {
   "cell_type": "code",
   "execution_count": 6,
   "metadata": {},
   "outputs": [
    {
     "data": {
      "text/plain": [
       "[\"i encourage young and old alike to go see this unique and entertaining twist on the classic whale's tale -- you won't be sorry !\",\n",
       " \"although god is great addresses interesting matters of identity and heritage , it's hard to shake the feeling that it was intended to be a different kind of film .\",\n",
       " 'an endearingly offbeat romantic comedy with a great meet-cute gimmick .']"
      ]
     },
     "execution_count": 6,
     "metadata": {},
     "output_type": "execute_result"
    }
   ],
   "source": [
    "Z_sentences[:3]"
   ]
  },
  {
   "cell_type": "code",
   "execution_count": 7,
   "metadata": {
    "collapsed": true
   },
   "outputs": [],
   "source": [
    "from collections import Counter\n",
    "X_counts = [Counter(words) for words in X_words]"
   ]
  },
  {
   "cell_type": "code",
   "execution_count": 8,
   "metadata": {
    "scrolled": false
   },
   "outputs": [
    {
     "data": {
      "text/plain": [
       "[Counter({'alik': 1,\n",
       "          'classic': 1,\n",
       "          'encourag': 1,\n",
       "          'entertain': 1,\n",
       "          'old': 1,\n",
       "          'sorri': 1,\n",
       "          'tale': 1,\n",
       "          'twist': 1,\n",
       "          'uniqu': 1,\n",
       "          'whale': 1,\n",
       "          'wont': 1,\n",
       "          'young': 1}),\n",
       " Counter({'address': 1,\n",
       "          'differ': 1,\n",
       "          'feel': 1,\n",
       "          'film': 1,\n",
       "          'god': 1,\n",
       "          'great': 1,\n",
       "          'hard': 1,\n",
       "          'heritag': 1,\n",
       "          'ident': 1,\n",
       "          'intend': 1,\n",
       "          'interest': 1,\n",
       "          'kind': 1,\n",
       "          'matter': 1,\n",
       "          'shake': 1}),\n",
       " Counter({'comedi': 1,\n",
       "          'endear': 1,\n",
       "          'gimmick': 1,\n",
       "          'great': 1,\n",
       "          'meetcut': 1,\n",
       "          'offbeat': 1,\n",
       "          'romant': 1})]"
      ]
     },
     "execution_count": 8,
     "metadata": {},
     "output_type": "execute_result"
    }
   ],
   "source": [
    "X_counts[:3]"
   ]
  },
  {
   "cell_type": "markdown",
   "metadata": {},
   "source": [
    "## 73. 学習\n",
    "72で抽出した素性を用いて，ロジスティック回帰モデルを学習せよ．"
   ]
  },
  {
   "cell_type": "markdown",
   "metadata": {},
   "source": [
    "## ベースライン"
   ]
  },
  {
   "cell_type": "code",
   "execution_count": 41,
   "metadata": {},
   "outputs": [
    {
     "data": {
      "text/plain": [
       "LogisticRegression(C=1.0, class_weight=None, dual=False, fit_intercept=True,\n",
       "          intercept_scaling=1, max_iter=100, multi_class='ovr', n_jobs=1,\n",
       "          penalty='l2', random_state=None, solver='liblinear', tol=0.0001,\n",
       "          verbose=0, warm_start=False)"
      ]
     },
     "execution_count": 41,
     "metadata": {},
     "output_type": "execute_result"
    }
   ],
   "source": [
    "import numpy as np\n",
    "from sklearn.feature_extraction import DictVectorizer\n",
    "from sklearn.linear_model import LogisticRegression\n",
    "from sklearn import metrics\n",
    "\n",
    "vectorizer = DictVectorizer()\n",
    "model_base = LogisticRegression()\n",
    "\n",
    "X_all = vectorizer.fit_transform(X_counts)\n",
    "Y_all = np.array([1 if label == '+1' else -1 for label in Y_labels])\n",
    "\n",
    "split_num = 3000\n",
    "X_train, Y_train = X_all[:-split_num], Y_all[:-split_num]\n",
    "X_test, Y_test, Z_test = X_all[-split_num:], Y_all[-split_num:], Z_sentences[-split_num:]\n",
    "\n",
    "model_base.fit(X_train, Y_train)"
   ]
  },
  {
   "cell_type": "code",
   "execution_count": 42,
   "metadata": {},
   "outputs": [
    {
     "data": {
      "text/plain": [
       "['work/model_base']"
      ]
     },
     "execution_count": 42,
     "metadata": {},
     "output_type": "execute_result"
    }
   ],
   "source": [
    "from sklearn.externals import joblib\n",
    "joblib.dump(model_base, \"work/model_base\")"
   ]
  },
  {
   "cell_type": "code",
   "execution_count": 43,
   "metadata": {
    "collapsed": true
   },
   "outputs": [],
   "source": [
    "from sklearn.externals import joblib\n",
    "model_base = joblib.load(\"work/model_base\")"
   ]
  },
  {
   "cell_type": "code",
   "execution_count": 44,
   "metadata": {
    "collapsed": true
   },
   "outputs": [],
   "source": [
    "Y_test_pred = model_base.predict(X_test)\n",
    "Y_test_pred_prob = model_base.predict_proba(X_test)"
   ]
  },
  {
   "cell_type": "code",
   "execution_count": 45,
   "metadata": {},
   "outputs": [
    {
     "data": {
      "text/plain": [
       "0.75317725752508358"
      ]
     },
     "execution_count": 45,
     "metadata": {},
     "output_type": "execute_result"
    }
   ],
   "source": [
    "metrics.f1_score(Y_test, Y_test_pred, pos_label=1)"
   ]
  },
  {
   "cell_type": "code",
   "execution_count": 46,
   "metadata": {
    "scrolled": true
   },
   "outputs": [
    {
     "data": {
      "text/plain": [
       "0.75481727574750834"
      ]
     },
     "execution_count": 46,
     "metadata": {},
     "output_type": "execute_result"
    }
   ],
   "source": [
    "metrics.f1_score(Y_test, Y_test_pred, pos_label=-1)"
   ]
  },
  {
   "cell_type": "markdown",
   "metadata": {},
   "source": [
    "## bigram"
   ]
  },
  {
   "cell_type": "code",
   "execution_count": 17,
   "metadata": {},
   "outputs": [
    {
     "data": {
      "text/plain": [
       "LogisticRegression(C=1.0, class_weight=None, dual=False, fit_intercept=True,\n",
       "          intercept_scaling=1, max_iter=100, multi_class='ovr', n_jobs=1,\n",
       "          penalty='l2', random_state=None, solver='liblinear', tol=0.0001,\n",
       "          verbose=0, warm_start=False)"
      ]
     },
     "execution_count": 17,
     "metadata": {},
     "output_type": "execute_result"
    }
   ],
   "source": [
    "import numpy as np\n",
    "from sklearn.feature_extraction.text import CountVectorizer\n",
    "from sklearn.linear_model import LogisticRegression\n",
    "\n",
    "model_bigram = LogisticRegression()\n",
    "bigram_vectorizer = CountVectorizer(ngram_range=(1, 2))\n",
    "\n",
    "X_bi = bigram_vectorizer.fit_transform([' '.join(i) for i in X_words])\n",
    "Y_all = np.array([1 if label == '+1' else -1 for label in Y_labels])\n",
    "\n",
    "X_train, Y_train = X_bi[:-3000], Y_all[:-3000]\n",
    "X_test, Y_test = X_bi[-3000:], Y_all[-3000:]\n",
    "\n",
    "model_bigram.fit(X_train, Y_train)"
   ]
  },
  {
   "cell_type": "code",
   "execution_count": 18,
   "metadata": {
    "collapsed": true
   },
   "outputs": [],
   "source": [
    "Y_test_pred = model_bigram.predict(X_test)\n",
    "Y_test_pred_prob = model_bigram.predict_proba(X_test)"
   ]
  },
  {
   "cell_type": "code",
   "execution_count": 19,
   "metadata": {},
   "outputs": [
    {
     "data": {
      "text/plain": [
       "0.7576974564926372"
      ]
     },
     "execution_count": 19,
     "metadata": {},
     "output_type": "execute_result"
    }
   ],
   "source": [
    "metrics.f1_score(Y_test, Y_test_pred, pos_label=1)"
   ]
  },
  {
   "cell_type": "code",
   "execution_count": 20,
   "metadata": {},
   "outputs": [
    {
     "data": {
      "text/plain": [
       "0.75962815405046469"
      ]
     },
     "execution_count": 20,
     "metadata": {},
     "output_type": "execute_result"
    }
   ],
   "source": [
    "metrics.f1_score(Y_test, Y_test_pred, pos_label=-1)"
   ]
  },
  {
   "cell_type": "markdown",
   "metadata": {},
   "source": [
    "## tf-idf"
   ]
  },
  {
   "cell_type": "code",
   "execution_count": 72,
   "metadata": {},
   "outputs": [
    {
     "data": {
      "text/plain": [
       "LogisticRegression(C=1.0, class_weight=None, dual=False, fit_intercept=True,\n",
       "          intercept_scaling=1, max_iter=100, multi_class='ovr', n_jobs=1,\n",
       "          penalty='l2', random_state=None, solver='liblinear', tol=0.0001,\n",
       "          verbose=0, warm_start=False)"
      ]
     },
     "execution_count": 72,
     "metadata": {},
     "output_type": "execute_result"
    }
   ],
   "source": [
    "import numpy as np\n",
    "from sklearn.feature_extraction.text import TfidfVectorizer\n",
    "from sklearn.linear_model import LogisticRegression\n",
    "\n",
    "model_tfidf = LogisticRegression()\n",
    "tfidf_vectorizer = TfidfVectorizer(use_idf = True)\n",
    "\n",
    "X_tfidf = tfidf_vectorizer.fit_transform([' '.join(i) for i in X_words])\n",
    "Y_all = np.array([1 if label == '+1' else -1 for label in Y_labels])\n",
    "\n",
    "X_train, Y_train = X_tfidf[:-3000], Y_all[:-3000]\n",
    "X_test, Y_test = X_tfidf[-3000:], Y_all[-3000:]\n",
    "\n",
    "model_tfidf.fit(X_train, Y_train)"
   ]
  },
  {
   "cell_type": "code",
   "execution_count": 73,
   "metadata": {
    "collapsed": true
   },
   "outputs": [],
   "source": [
    "Y_test_pred = model_tfidf.predict(X_test)\n",
    "Y_test_pred_prob = model_tfidf.predict_proba(X_test)"
   ]
  },
  {
   "cell_type": "code",
   "execution_count": 71,
   "metadata": {},
   "outputs": [
    {
     "data": {
      "text/plain": [
       "0.75317725752508358"
      ]
     },
     "execution_count": 71,
     "metadata": {},
     "output_type": "execute_result"
    }
   ],
   "source": [
    "metrics.f1_score(Y_test, Y_test_pred, pos_label=1)"
   ]
  },
  {
   "cell_type": "code",
   "execution_count": 24,
   "metadata": {},
   "outputs": [
    {
     "data": {
      "text/plain": [
       "0.76143141153081517"
      ]
     },
     "execution_count": 24,
     "metadata": {},
     "output_type": "execute_result"
    }
   ],
   "source": [
    "metrics.f1_score(Y_test, Y_test_pred, pos_label=-1)"
   ]
  },
  {
   "cell_type": "markdown",
   "metadata": {},
   "source": [
    "## 74. 予測\n",
    "73で学習したロジスティック回帰モデルを用い，与えられた文の極性ラベル（正例なら\"+1\"，負例なら\"-1\"）と，その予測確率を計算するプログラムを実装せよ．"
   ]
  },
  {
   "cell_type": "code",
   "execution_count": 15,
   "metadata": {
    "collapsed": true
   },
   "outputs": [],
   "source": [
    "sentences = ['This movie is good for me. I felt happy after seeing it.',\n",
    "             'This fucking movie is very boring.',\n",
    "             \"I watched the movie last night and still i'm having that rare feeling when you wish the movie lasted longer...first and foremost - there is no a single CGI scene in the epic war movie ! All is real and all is breathtaking ! Next is music - that Zimmer guy simply won't miss a second to ease the grip, he pushes suspense scenes (and the whole movie is one big suspense scene) close to the edge...this movie is the best Nolan so far, there is no excuse to miss it !\",\n",
    "            \"booooring movie... I really don't understand what people see so good. Confusing and simplistic plot. Shallow characters. Want a good war movie goes see until the last man, because this is a noolan hype and nothing anymore\"]"
   ]
  },
  {
   "cell_type": "code",
   "execution_count": 34,
   "metadata": {
    "collapsed": true
   },
   "outputs": [],
   "source": [
    "def predict_label(sentence, model, stopwords):\n",
    "    words = stemming(sentence.lower(), stopwords)\n",
    "    X = vectorizer.transform(Counter(words))\n",
    "    print (sentence, model.predict(X), model.predict_proba(X))"
   ]
  },
  {
   "cell_type": "code",
   "execution_count": 35,
   "metadata": {},
   "outputs": [
    {
     "name": "stdout",
     "output_type": "stream",
     "text": [
      "This movie is good for me. I felt happy after seeing it. [1] [[ 0.16191824  0.83808176]]\n",
      "This fucking movie is very boring. [-1] [[ 0.90533631  0.09466369]]\n",
      "I watched the movie last night and still i'm having that rare feeling when you wish the movie lasted longer...first and foremost - there is no a single CGI scene in the epic war movie ! All is real and all is breathtaking ! Next is music - that Zimmer guy simply won't miss a second to ease the grip, he pushes suspense scenes (and the whole movie is one big suspense scene) close to the edge...this movie is the best Nolan so far, there is no excuse to miss it ! [1] [[ 0.25566084  0.74433916]]\n",
      "booooring movie... I really don't understand what people see so good. Confusing and simplistic plot. Shallow characters. Want a good war movie goes see until the last man, because this is a noolan hype and nothing anymore [-1] [[ 0.89464854  0.10535146]]\n"
     ]
    }
   ],
   "source": [
    "for sentence in sentences:\n",
    "    predict_label(sentence, model_base, ENGLISH_STOP_WORDS)"
   ]
  },
  {
   "cell_type": "markdown",
   "metadata": {
    "collapsed": true
   },
   "source": [
    "## 75. 素性の重み\n",
    "73で学習したロジスティック回帰モデルの中で，重みの高い素性トップ10と，重みの低い素性トップ10を確認せよ．"
   ]
  },
  {
   "cell_type": "code",
   "execution_count": 18,
   "metadata": {
    "collapsed": true
   },
   "outputs": [],
   "source": [
    "feature_list = [[feat, coef] for feat, coef in zip(vectorizer.get_feature_names(), model_base.coef_[0])]\n",
    "feature_list.sort(key=lambda x:x[1], reverse=True)"
   ]
  },
  {
   "cell_type": "markdown",
   "metadata": {},
   "source": [
    "argsort\n",
    "数値が高い順にindexを返してくれる\n",
    "np.argsort(model.coef_)"
   ]
  },
  {
   "cell_type": "code",
   "execution_count": 19,
   "metadata": {},
   "outputs": [
    {
     "name": "stdout",
     "output_type": "stream",
     "text": [
      "['refresh', 1.9667447355811805]\n",
      "['glorious', 1.7517854897614342]\n",
      "['engross', 1.7421204672803827]\n",
      "['unexpect', 1.6366099320400866]\n",
      "['hilari', 1.6069852266444742]\n",
      "['witti', 1.57026981966723]\n",
      "['solid', 1.5356460177263573]\n",
      "['remark', 1.5318031513307577]\n",
      "['wri', 1.5138779000427602]\n",
      "['resist', 1.500736414837182]\n"
     ]
    }
   ],
   "source": [
    "for feature in feature_list[:10]:\n",
    "    print(feature)"
   ]
  },
  {
   "cell_type": "code",
   "execution_count": 20,
   "metadata": {},
   "outputs": [
    {
     "name": "stdout",
     "output_type": "stream",
     "text": [
      "['wast', -1.5441105617392568]\n",
      "['plod', -1.5459439098380843]\n",
      "['fail', -1.5474878525517548]\n",
      "['generic', -1.5638864091647089]\n",
      "['mild', -1.5675923843146784]\n",
      "['unfunni', -1.5768884861675874]\n",
      "['routin', -1.6375561982168987]\n",
      "['dull', -1.6596108905346674]\n",
      "['flat', -1.7710313151745809]\n",
      "['bore', -1.7718722054417415]\n"
     ]
    }
   ],
   "source": [
    "for feature in feature_list[-10:]:\n",
    "    print(feature)"
   ]
  },
  {
   "cell_type": "markdown",
   "metadata": {},
   "source": [
    "## 76. ラベル付け\n",
    "学習データに対してロジスティック回帰モデルを適用し，正解のラベル，予測されたラベル，予測確率をタブ区切り形式で出力せよ．"
   ]
  },
  {
   "cell_type": "code",
   "execution_count": 21,
   "metadata": {
    "collapsed": true
   },
   "outputs": [],
   "source": [
    "Y_test = Y_all[:-split_num]\n",
    "Y_test_pred = model_base.predict(X_train)\n",
    "Y_test_pred_prob = model_base.predict_proba(X_train)\n",
    "\n",
    "with open('work/result_76.txt', 'w') as f_76:\n",
    "    for y, y_pred, y_pred_prob, z in zip(Y_test, Y_test_pred, Y_test_pred_prob, Z_test):\n",
    "        if y_pred_prob[0] < 0.5:\n",
    "            f_76.write('{}\\t{}\\t{}\\t{}\\n'.format(y, y_pred, y_pred_prob[1], z))\n",
    "        else:\n",
    "            f_76.write('{}\\t{}\\t{}\\t{}\\n'.format(y, y_pred, y_pred_prob[0], z))"
   ]
  },
  {
   "cell_type": "code",
   "execution_count": 22,
   "metadata": {},
   "outputs": [
    {
     "name": "stdout",
     "output_type": "stream",
     "text": [
      "1\t1\t0.9472651573353345\tanyone not into high-tech splatterfests is advised to take the warning literally , and log on to something more user-friendly .\r\n",
      "-1\t-1\t0.6290946496691603\tthis film is an act of spiritual faith -- an eloquent , deeply felt meditation on the nature of compassion .\r\n",
      "1\t1\t0.8116259551637165\ti thought my own watch had stopped keeping time as i slogged my way through clockstoppers .\r\n",
      "-1\t-1\t0.7344279716922006\tthis movie has a strong message about never giving up on a loved one , but it's not an easy movie to watch and will probably disturb many who see it .\r\n",
      "1\t1\t0.8562638494540643\tan awful lot like one of [spears'] music videos in content -- except that it goes on for at least 90 more minutes and , worse , that you have to pay if you want to see it .\r\n",
      "1\t1\t0.6642833338531986\ta carefully structured scream of consciousness that is tortured and unsettling--but unquestionably alive .\r\n",
      "-1\t-1\t0.9767519946966317\tthe passions aroused by the discord between old and new cultures are set against the strange , stark beauty of the mideast desert , so lovingly and perceptively filmed that you can almost taste the desiccated air .\r\n",
      "-1\t-1\t0.7548401060960978\tit's mighty tedious for the viewer who has to contend with unpleasant characters , hit-and-miss performances and awkwardly staged scenes .\r\n",
      "1\t1\t0.9558318742370392\toverall the film feels like a low-budget tv pilot that could not find a buyer to play it on the tube .\r\n",
      "1\t1\t0.6798880876205443\twoody allen has really found his groove these days . the problem is that it is one that allows him to churn out one mediocre movie after another .\r\n",
      "-1\t-1\t0.947267701661244\tthe very definition of what critics have come to term an \" ambitious failure . \"\r\n",
      "1\t1\t0.7401122359191553\tperhaps it's cliche to call the film 'refreshing , ' but it is . 'drumline' shows a level of young , black manhood that is funny , touching , smart and complicated .\r\n",
      "1\t1\t0.985743680579306\tan enjoyable experience .\r\n",
      "-1\t-1\t0.8250410204140264\tit tends to remind one of a really solid woody allen film , with its excellent use of new york locales and sharp writing\r\n",
      "-1\t-1\t0.8207929112509904\tsecretary is just too original to be ignored .\r\n",
      "1\t1\t0.6957707397234829\tthe final result makes for adequate entertainment , i suppose , but anyone who has seen chicago on stage will leave the theater feeling they've watched nothing but a pale imitation of the real deal .\r\n",
      "-1\t-1\t0.6646717894695888\tthe biggest problem with roger avary's uproar against the mpaa is that , even in all its director's cut glory , he's made a film that's barely shocking , barely interesting and most of all , barely anything .\r\n",
      "1\t1\t0.8738243057716953\tat times , the movie looks genuinely pretty . your nightmares , on the other hand , will be anything but . not even felinni would know what to make of this italian freakshow .\r\n",
      "-1\t-1\t0.695513044183514\twhat really surprises about wisegirls is its low-key quality and genuine tenderness .\r\n",
      "-1\t-1\t0.6473638790196083\tas averse as i usually am to feel-good , follow-your-dream hollywood fantasies , this one got to me .\r\n"
     ]
    }
   ],
   "source": [
    "! head -20 work/result_76.txt"
   ]
  },
  {
   "cell_type": "code",
   "execution_count": 23,
   "metadata": {
    "scrolled": true
   },
   "outputs": [
    {
     "data": {
      "text/html": [
       "<div>\n",
       "<table border=\"1\" class=\"dataframe\">\n",
       "  <thead>\n",
       "    <tr style=\"text-align: right;\">\n",
       "      <th></th>\n",
       "      <th>y</th>\n",
       "      <th>y_pred</th>\n",
       "      <th>y_prob</th>\n",
       "    </tr>\n",
       "  </thead>\n",
       "  <tbody>\n",
       "    <tr>\n",
       "      <th>0</th>\n",
       "      <td>1</td>\n",
       "      <td>1</td>\n",
       "      <td>[0.0527348426647, 0.947265157335]</td>\n",
       "    </tr>\n",
       "    <tr>\n",
       "      <th>1</th>\n",
       "      <td>-1</td>\n",
       "      <td>-1</td>\n",
       "      <td>[0.629094649669, 0.370905350331]</td>\n",
       "    </tr>\n",
       "    <tr>\n",
       "      <th>2</th>\n",
       "      <td>1</td>\n",
       "      <td>1</td>\n",
       "      <td>[0.188374044836, 0.811625955164]</td>\n",
       "    </tr>\n",
       "    <tr>\n",
       "      <th>3</th>\n",
       "      <td>-1</td>\n",
       "      <td>-1</td>\n",
       "      <td>[0.734427971692, 0.265572028308]</td>\n",
       "    </tr>\n",
       "    <tr>\n",
       "      <th>4</th>\n",
       "      <td>1</td>\n",
       "      <td>1</td>\n",
       "      <td>[0.143736150546, 0.856263849454]</td>\n",
       "    </tr>\n",
       "    <tr>\n",
       "      <th>5</th>\n",
       "      <td>1</td>\n",
       "      <td>1</td>\n",
       "      <td>[0.335716666147, 0.664283333853]</td>\n",
       "    </tr>\n",
       "    <tr>\n",
       "      <th>6</th>\n",
       "      <td>-1</td>\n",
       "      <td>-1</td>\n",
       "      <td>[0.976751994697, 0.0232480053034]</td>\n",
       "    </tr>\n",
       "    <tr>\n",
       "      <th>7</th>\n",
       "      <td>-1</td>\n",
       "      <td>-1</td>\n",
       "      <td>[0.754840106096, 0.245159893904]</td>\n",
       "    </tr>\n",
       "    <tr>\n",
       "      <th>8</th>\n",
       "      <td>1</td>\n",
       "      <td>1</td>\n",
       "      <td>[0.044168125763, 0.955831874237]</td>\n",
       "    </tr>\n",
       "    <tr>\n",
       "      <th>9</th>\n",
       "      <td>1</td>\n",
       "      <td>1</td>\n",
       "      <td>[0.320111912379, 0.679888087621]</td>\n",
       "    </tr>\n",
       "  </tbody>\n",
       "</table>\n",
       "</div>"
      ],
      "text/plain": [
       "   y  y_pred                             y_prob\n",
       "0  1       1  [0.0527348426647, 0.947265157335]\n",
       "1 -1      -1   [0.629094649669, 0.370905350331]\n",
       "2  1       1   [0.188374044836, 0.811625955164]\n",
       "3 -1      -1   [0.734427971692, 0.265572028308]\n",
       "4  1       1   [0.143736150546, 0.856263849454]\n",
       "5  1       1   [0.335716666147, 0.664283333853]\n",
       "6 -1      -1  [0.976751994697, 0.0232480053034]\n",
       "7 -1      -1   [0.754840106096, 0.245159893904]\n",
       "8  1       1   [0.044168125763, 0.955831874237]\n",
       "9  1       1   [0.320111912379, 0.679888087621]"
      ]
     },
     "execution_count": 23,
     "metadata": {},
     "output_type": "execute_result"
    }
   ],
   "source": [
    "import pandas as pd\n",
    "\n",
    "result = pd.DataFrame(list(zip(Y_test, Y_test_pred, Y_test_pred_prob)), columns=['y', 'y_pred', 'y_prob'])\n",
    "result.head(10)"
   ]
  },
  {
   "cell_type": "markdown",
   "metadata": {},
   "source": [
    "## 77. 正解率の計測\n",
    "76の出力を受け取り，予測の正解率，正例に関する適合率，再現率，F1スコアを求めるプログラムを作成せよ"
   ]
  },
  {
   "cell_type": "code",
   "execution_count": 24,
   "metadata": {
    "collapsed": true
   },
   "outputs": [],
   "source": [
    "with open('work/result_76.txt') as f_77:\n",
    "    Y_test = []\n",
    "    Y_test_pred = []\n",
    "    for line in f_77:\n",
    "        splited = line.split('\\t')\n",
    "        Y_test.append(splited[0])\n",
    "        Y_test_pred.append(splited[1])"
   ]
  },
  {
   "cell_type": "markdown",
   "metadata": {},
   "source": [
    "pandasのread_tableとかread_csvを使うと超便利&超高速\n",
    "9&10章はpandas使おう cf.Pythonによるデータ分析入門\n",
    "https://nkmk.github.io/blog/python-pandas-read-csv-tsv/"
   ]
  },
  {
   "cell_type": "code",
   "execution_count": 25,
   "metadata": {},
   "outputs": [
    {
     "name": "stdout",
     "output_type": "stream",
     "text": [
      "accuracy : 0.9576666666666667\n",
      "precision : 0.9650395778364116\n",
      "recall : 0.9518542615484711\n",
      "f1 : 0.958401572224042\n"
     ]
    }
   ],
   "source": [
    "from sklearn.metrics import precision_recall_fscore_support\n",
    "score = precision_recall_fscore_support(Y_test, Y_test_pred)\n",
    "print('accuracy : {}\\nprecision : {}\\nrecall : {}\\nf1 : {}'.\n",
    "      format(metrics.accuracy_score(Y_test, Y_test_pred), score[0][1], score[1][1], score[2][1]))"
   ]
  },
  {
   "cell_type": "markdown",
   "metadata": {},
   "source": [
    "## 78. 5分割交差検証\n",
    "76-77の実験では，学習に用いた事例を評価にも用いたため，正当な評価とは言えない．すなわち，分類器が訓練事例を丸暗記する際の性能を評価しており，モデルの汎化性能を測定していない．そこで，5分割交差検定により，極性分類の正解率，適合率，再現率，F1スコアを求めよ．"
   ]
  },
  {
   "cell_type": "markdown",
   "metadata": {},
   "source": [
    "### 層化交差検証\n",
    "層化交差検証では、 各分割内でのクラスの比率が全体の比率と同じになるように分割する。(Pythonではじめる機械学習 P249)"
   ]
  },
  {
   "cell_type": "code",
   "execution_count": 38,
   "metadata": {
    "scrolled": true
   },
   "outputs": [
    {
     "name": "stdout",
     "output_type": "stream",
     "text": [
      "accuracy : [ 0.7440225   0.74824191  0.74859287  0.7565666   0.75187617] average : 0.7498600127189198\n",
      "precision : [ 0.74144487  0.75768872  0.73488372  0.74545455  0.75456204] average : 0.7468067800613031\n",
      "recall : [ 0.74003795  0.74587156  0.75888569  0.77431539  0.76080957] average : 0.7559840313266337\n",
      "f1 : [ 0.74074074  0.7517337   0.74669187  0.75961093  0.75767293] average : 0.7512900347074704\n"
     ]
    }
   ],
   "source": [
    "from sklearn.model_selection import KFold\n",
    "from sklearn.model_selection import cross_val_score\n",
    "\n",
    "items = ['accuracy', 'precision', 'recall', 'f1']\n",
    "kf = KFold(n_splits = 5, shuffle = True, random_state = 0)\n",
    "for item in items:\n",
    "    score = cross_val_score(model_base, X_all, Y_all, cv = kf, scoring = item)\n",
    "    print('{} : {} average : {}'.format(item, score, score.mean()))"
   ]
  },
  {
   "cell_type": "markdown",
   "metadata": {},
   "source": [
    "cross_validateを使えばscoringに複数入れられる  \n",
    "機械学習では大量にあるパラメータを最適化する  \n",
    "    うまいパラメータを探すのに確率的勾配降下法が今では一般的  \n",
    "    全てのデータを入れずに1個ずつぶち込んで修正を繰り返していく  \n",
    "    学習率:これが大きすぎると早いけど大事故の恐れあり最後のデータにover fittingで小さすぎるとなかなか最適化が起きない  \n",
    "線形性の定義 覚えておかないと  \n",
    "    1 f(ax) = af(x)  \n",
    "    2 f(x+y) = f(x)+f(y)  \n",
    "評価関数fについて  \n",
    "マクロ平均： 1/K Σ f(x_i)  \n",
    "マイクロ平均： f(1/K Σ x_i)  \n",
    "  \n",
    "leave one out 1つだけテストに使う → 汎化誤差を計算できる  \n",
    "5分割してシャッフルして使うのがgood  \n",
    "kfoldを使うといい  \n",
    "汎化誤差 真の確率分布からの誤差  "
   ]
  },
  {
   "cell_type": "markdown",
   "metadata": {},
   "source": [
    "## 79. 適合率-再現率グラフの描画\n",
    "ロジスティック回帰モデルの分類の閾値を変化させることで，適合率-再現率グラフを描画せよ．"
   ]
  },
  {
   "cell_type": "markdown",
   "metadata": {},
   "source": [
    "### Plot the Precision-Recall curve\n",
    "\n",
    "http://scikit-learn.org/stable/auto_examples/model_selection/plot_precision_recall.html#sphx-glr-auto-examples-model-selection-plot-precision-recall-py"
   ]
  },
  {
   "cell_type": "code",
   "execution_count": 50,
   "metadata": {},
   "outputs": [
    {
     "data": {
      "image/png": "[encoded data removed]",
      "text/plain": [
       "<matplotlib.figure.Figure at 0x10dc64e80>"
      ]
     },
     "metadata": {},
     "output_type": "display_data"
    }
   ],
   "source": [
    "from sklearn.metrics import precision_recall_curve\n",
    "import matplotlib.pyplot as plt\n",
    "from sklearn.metrics import average_precision_score\n",
    "plt.style.use('ggplot')\n",
    "plt.figure(figsize=(16,9))\n",
    "\n",
    "precision, recall, _ = precision_recall_curve(Y_test, Y_test_pred_prob[:, 1])\n",
    "average_precision = average_precision_score(Y_test, Y_test_pred_prob[:, 1])\n",
    "\n",
    "plt.step(recall, precision, color = 'm', alpha=0.3)\n",
    "plt.fill_between(recall, precision, alpha=0.3, color='m')\n",
    "plt.xlabel('Recall', fontsize = 20)\n",
    "plt.ylabel('Precision', fontsize = 20)\n",
    "plt.title('Precision-Recall curve: AUC = {}'.format(average_precision), fontsize = 20)\n",
    "plt.show()"
   ]
  },
  {
   "cell_type": "markdown",
   "metadata": {},
   "source": [
    "### Plot the ROC_curve"
   ]
  },
  {
   "cell_type": "code",
   "execution_count": 51,
   "metadata": {},
   "outputs": [
    {
     "data": {
      "image/png": "[encoded data removed]",
      "text/plain": [
       "<matplotlib.figure.Figure at 0x10dc64cc0>"
      ]
     },
     "metadata": {},
     "output_type": "display_data"
    }
   ],
   "source": [
    "from sklearn.metrics import roc_curve, auc\n",
    "plt.style.use('ggplot')\n",
    "plt.figure(figsize=(16,9))\n",
    "\n",
    "fpr, tpr, thresholds = metrics.roc_curve(Y_test, Y_test_pred_prob[:, 1])\n",
    "roc_auc = auc(fpr, tpr)\n",
    "\n",
    "plt.step(fpr, tpr, color = 'm', alpha=0.3)\n",
    "plt.fill_between(fpr, tpr, alpha=0.3, color='m')\n",
    "\n",
    "plt.xlabel('False Positive', fontsize = 20)\n",
    "plt.ylabel('True Positive', fontsize = 20)\n",
    "plt.title('ROC curve : AUC = {}'.format(roc_auc), fontsize = 20)\n",
    "plt.show()"
   ]
  },
  {
   "cell_type": "code",
   "execution_count": null,
   "metadata": {
    "collapsed": true
   },
   "outputs": [],
   "source": []
  }
 ],
 "metadata": {
  "kernelspec": {
   "display_name": "Python 3",
   "language": "python",
   "name": "python3"
  },
  "language_info": {
   "codemirror_mode": {
    "name": "ipython",
    "version": 3
   },
   "file_extension": ".py",
   "mimetype": "text/x-python",
   "name": "python",
   "nbconvert_exporter": "python",
   "pygments_lexer": "ipython3",
   "version": "3.5.2"
  },
  "toc": {
   "nav_menu": {},
   "number_sections": false,
   "sideBar": true,
   "skip_h1_title": false,
   "toc_cell": true,
   "toc_position": {},
   "toc_section_display": "block",
   "toc_window_display": true
  }
 },
 "nbformat": 4,
 "nbformat_minor": 2
}
